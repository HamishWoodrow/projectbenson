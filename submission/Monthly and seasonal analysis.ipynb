{
 "cells": [
  {
   "cell_type": "code",
   "execution_count": 1,
   "metadata": {
    "collapsed": true
   },
   "outputs": [],
   "source": [
    "import pandas as pd\n",
    "import numpy as np\n",
    "import matplotlib.pyplot as plt\n",
    "import seaborn as sns\n",
    "%matplotlib inline"
   ]
  },
  {
   "cell_type": "code",
   "execution_count": 2,
   "metadata": {
    "collapsed": true
   },
   "outputs": [],
   "source": [
    "pd.set_option('display.max_columns', None)\n",
    "pd.set_option('display.max_rows', 25)\n",
    "# pd.options.display.float_format = '{:,.2f}'.format\n",
    "# plt.rcParams['axes.formatter.useoffset'] = False"
   ]
  },
  {
   "cell_type": "code",
   "execution_count": 3,
   "metadata": {},
   "outputs": [
    {
     "name": "stderr",
     "output_type": "stream",
     "text": [
      "/Users/chinnu/anaconda/lib/python3.6/site-packages/IPython/core/interactiveshell.py:2821: DtypeWarning: Columns (5) have mixed types. Specify dtype option on import or set low_memory=False.\n",
      "  if self.run_code(code, result):\n",
      "/Users/chinnu/anaconda/lib/python3.6/site-packages/numpy/lib/arraysetops.py:395: FutureWarning: elementwise comparison failed; returning scalar instead, but in the future will perform elementwise comparison\n",
      "  mask |= (ar1 == a)\n"
     ]
    },
    {
     "data": {
      "text/html": [
       "<div>\n",
       "<style>\n",
       "    .dataframe thead tr:only-child th {\n",
       "        text-align: right;\n",
       "    }\n",
       "\n",
       "    .dataframe thead th {\n",
       "        text-align: left;\n",
       "    }\n",
       "\n",
       "    .dataframe tbody tr th {\n",
       "        vertical-align: top;\n",
       "    }\n",
       "</style>\n",
       "<table border=\"1\" class=\"dataframe\">\n",
       "  <thead>\n",
       "    <tr style=\"text-align: right;\">\n",
       "      <th></th>\n",
       "      <th>control_area</th>\n",
       "      <th>unit</th>\n",
       "      <th>scp</th>\n",
       "      <th>station</th>\n",
       "      <th>linename</th>\n",
       "      <th>division</th>\n",
       "      <th>date</th>\n",
       "      <th>time</th>\n",
       "      <th>desc</th>\n",
       "      <th>cum_entries</th>\n",
       "      <th>cum_exits</th>\n",
       "      <th>parsed_datetime</th>\n",
       "      <th>shift_cum_entries</th>\n",
       "      <th>shift_cum_exits</th>\n",
       "      <th>shift_datetime</th>\n",
       "      <th>entries</th>\n",
       "      <th>exits</th>\n",
       "      <th>parsed_date</th>\n",
       "    </tr>\n",
       "  </thead>\n",
       "  <tbody>\n",
       "    <tr>\n",
       "      <th>0</th>\n",
       "      <td>A002</td>\n",
       "      <td>R051</td>\n",
       "      <td>02-00-00</td>\n",
       "      <td>59 ST</td>\n",
       "      <td>NQR456</td>\n",
       "      <td>BMT</td>\n",
       "      <td>06/18/2016</td>\n",
       "      <td>00:00:00</td>\n",
       "      <td>REGULAR</td>\n",
       "      <td>5704958</td>\n",
       "      <td>1934814</td>\n",
       "      <td>2016-06-18 00:00:00</td>\n",
       "      <td>NaN</td>\n",
       "      <td>NaN</td>\n",
       "      <td>NaN</td>\n",
       "      <td>NaN</td>\n",
       "      <td>NaN</td>\n",
       "      <td>2016-06-18</td>\n",
       "    </tr>\n",
       "    <tr>\n",
       "      <th>1</th>\n",
       "      <td>A002</td>\n",
       "      <td>R051</td>\n",
       "      <td>02-00-00</td>\n",
       "      <td>59 ST</td>\n",
       "      <td>NQR456</td>\n",
       "      <td>BMT</td>\n",
       "      <td>06/18/2016</td>\n",
       "      <td>04:00:00</td>\n",
       "      <td>REGULAR</td>\n",
       "      <td>5704958</td>\n",
       "      <td>1934829</td>\n",
       "      <td>2016-06-18 04:00:00</td>\n",
       "      <td>5704958.0</td>\n",
       "      <td>1934814.0</td>\n",
       "      <td>2016-06-18 00:00:00</td>\n",
       "      <td>0.0</td>\n",
       "      <td>15.0</td>\n",
       "      <td>2016-06-18</td>\n",
       "    </tr>\n",
       "    <tr>\n",
       "      <th>2</th>\n",
       "      <td>A002</td>\n",
       "      <td>R051</td>\n",
       "      <td>02-00-00</td>\n",
       "      <td>59 ST</td>\n",
       "      <td>NQR456</td>\n",
       "      <td>BMT</td>\n",
       "      <td>06/18/2016</td>\n",
       "      <td>08:00:00</td>\n",
       "      <td>REGULAR</td>\n",
       "      <td>5704958</td>\n",
       "      <td>1934886</td>\n",
       "      <td>2016-06-18 08:00:00</td>\n",
       "      <td>5704958.0</td>\n",
       "      <td>1934829.0</td>\n",
       "      <td>2016-06-18 04:00:00</td>\n",
       "      <td>0.0</td>\n",
       "      <td>57.0</td>\n",
       "      <td>2016-06-18</td>\n",
       "    </tr>\n",
       "    <tr>\n",
       "      <th>3</th>\n",
       "      <td>A002</td>\n",
       "      <td>R051</td>\n",
       "      <td>02-00-00</td>\n",
       "      <td>59 ST</td>\n",
       "      <td>NQR456</td>\n",
       "      <td>BMT</td>\n",
       "      <td>06/18/2016</td>\n",
       "      <td>12:00:00</td>\n",
       "      <td>REGULAR</td>\n",
       "      <td>5704958</td>\n",
       "      <td>1934993</td>\n",
       "      <td>2016-06-18 12:00:00</td>\n",
       "      <td>5704958.0</td>\n",
       "      <td>1934886.0</td>\n",
       "      <td>2016-06-18 08:00:00</td>\n",
       "      <td>0.0</td>\n",
       "      <td>107.0</td>\n",
       "      <td>2016-06-18</td>\n",
       "    </tr>\n",
       "    <tr>\n",
       "      <th>4</th>\n",
       "      <td>A002</td>\n",
       "      <td>R051</td>\n",
       "      <td>02-00-00</td>\n",
       "      <td>59 ST</td>\n",
       "      <td>NQR456</td>\n",
       "      <td>BMT</td>\n",
       "      <td>06/18/2016</td>\n",
       "      <td>16:00:00</td>\n",
       "      <td>REGULAR</td>\n",
       "      <td>5704958</td>\n",
       "      <td>1935069</td>\n",
       "      <td>2016-06-18 16:00:00</td>\n",
       "      <td>5704958.0</td>\n",
       "      <td>1934993.0</td>\n",
       "      <td>2016-06-18 12:00:00</td>\n",
       "      <td>0.0</td>\n",
       "      <td>76.0</td>\n",
       "      <td>2016-06-18</td>\n",
       "    </tr>\n",
       "  </tbody>\n",
       "</table>\n",
       "</div>"
      ],
      "text/plain": [
       "  control_area  unit       scp station linename division        date  \\\n",
       "0         A002  R051  02-00-00   59 ST   NQR456      BMT  06/18/2016   \n",
       "1         A002  R051  02-00-00   59 ST   NQR456      BMT  06/18/2016   \n",
       "2         A002  R051  02-00-00   59 ST   NQR456      BMT  06/18/2016   \n",
       "3         A002  R051  02-00-00   59 ST   NQR456      BMT  06/18/2016   \n",
       "4         A002  R051  02-00-00   59 ST   NQR456      BMT  06/18/2016   \n",
       "\n",
       "       time     desc  cum_entries  cum_exits     parsed_datetime  \\\n",
       "0  00:00:00  REGULAR      5704958    1934814 2016-06-18 00:00:00   \n",
       "1  04:00:00  REGULAR      5704958    1934829 2016-06-18 04:00:00   \n",
       "2  08:00:00  REGULAR      5704958    1934886 2016-06-18 08:00:00   \n",
       "3  12:00:00  REGULAR      5704958    1934993 2016-06-18 12:00:00   \n",
       "4  16:00:00  REGULAR      5704958    1935069 2016-06-18 16:00:00   \n",
       "\n",
       "   shift_cum_entries  shift_cum_exits       shift_datetime  entries  exits  \\\n",
       "0                NaN              NaN                  NaN      NaN    NaN   \n",
       "1          5704958.0        1934814.0  2016-06-18 00:00:00      0.0   15.0   \n",
       "2          5704958.0        1934829.0  2016-06-18 04:00:00      0.0   57.0   \n",
       "3          5704958.0        1934886.0  2016-06-18 08:00:00      0.0  107.0   \n",
       "4          5704958.0        1934993.0  2016-06-18 12:00:00      0.0   76.0   \n",
       "\n",
       "  parsed_date  \n",
       "0  2016-06-18  \n",
       "1  2016-06-18  \n",
       "2  2016-06-18  \n",
       "3  2016-06-18  \n",
       "4  2016-06-18  "
      ]
     },
     "execution_count": 3,
     "metadata": {},
     "output_type": "execute_result"
    }
   ],
   "source": [
    "df = pd.DataFrame.from_csv('clean_data.csv', parse_dates=['parsed_datetime','parsed_date']) \n",
    "df.head()"
   ]
  },
  {
   "cell_type": "code",
   "execution_count": 4,
   "metadata": {
    "collapsed": true
   },
   "outputs": [],
   "source": [
    "#create a column extracting month and month-year\n",
    "import datetime\n",
    "df['month_year'] = df['parsed_date'].map(lambda x: x.strftime('%Y-%m'))\n",
    "df['month'] = df['parsed_date'].map(lambda x: x.month)\n",
    "df['year'] = df['parsed_date'].map(lambda x: x.year)"
   ]
  },
  {
   "cell_type": "code",
   "execution_count": 5,
   "metadata": {
    "collapsed": true
   },
   "outputs": [],
   "source": [
    "#Defining quarters of the year (from nyc.com)\n",
    "def quarters(month):\n",
    "    if month in [12,1,2]:\n",
    "        quart = 'Winter'\n",
    "    elif month in [3,4,5]:\n",
    "        quart = 'Spring'\n",
    "    elif month in [6,7,8]:\n",
    "        quart = 'Summer'\n",
    "    elif month in [9,10,11]:\n",
    "        quart = 'Fall'\n",
    "    else:\n",
    "        quart = '-'\n",
    "    return quart\n",
    "\n",
    "df['quarters'] = df['month'].map(lambda x: quarters(x))"
   ]
  },
  {
   "cell_type": "code",
   "execution_count": 6,
   "metadata": {},
   "outputs": [
    {
     "data": {
      "text/html": [
       "<div>\n",
       "<style>\n",
       "    .dataframe thead tr:only-child th {\n",
       "        text-align: right;\n",
       "    }\n",
       "\n",
       "    .dataframe thead th {\n",
       "        text-align: left;\n",
       "    }\n",
       "\n",
       "    .dataframe tbody tr th {\n",
       "        vertical-align: top;\n",
       "    }\n",
       "</style>\n",
       "<table border=\"1\" class=\"dataframe\">\n",
       "  <thead>\n",
       "    <tr style=\"text-align: right;\">\n",
       "      <th></th>\n",
       "      <th>control_area</th>\n",
       "      <th>unit</th>\n",
       "      <th>scp</th>\n",
       "      <th>station</th>\n",
       "      <th>linename</th>\n",
       "      <th>division</th>\n",
       "      <th>date</th>\n",
       "      <th>time</th>\n",
       "      <th>desc</th>\n",
       "      <th>cum_entries</th>\n",
       "      <th>cum_exits</th>\n",
       "      <th>parsed_datetime</th>\n",
       "      <th>shift_cum_entries</th>\n",
       "      <th>shift_cum_exits</th>\n",
       "      <th>shift_datetime</th>\n",
       "      <th>entries</th>\n",
       "      <th>exits</th>\n",
       "      <th>parsed_date</th>\n",
       "      <th>month_year</th>\n",
       "      <th>month</th>\n",
       "      <th>year</th>\n",
       "      <th>quarters</th>\n",
       "    </tr>\n",
       "  </thead>\n",
       "  <tbody>\n",
       "    <tr>\n",
       "      <th>0</th>\n",
       "      <td>A002</td>\n",
       "      <td>R051</td>\n",
       "      <td>02-00-00</td>\n",
       "      <td>59 ST</td>\n",
       "      <td>NQR456</td>\n",
       "      <td>BMT</td>\n",
       "      <td>06/18/2016</td>\n",
       "      <td>00:00:00</td>\n",
       "      <td>REGULAR</td>\n",
       "      <td>5704958</td>\n",
       "      <td>1934814</td>\n",
       "      <td>2016-06-18 00:00:00</td>\n",
       "      <td>NaN</td>\n",
       "      <td>NaN</td>\n",
       "      <td>NaN</td>\n",
       "      <td>NaN</td>\n",
       "      <td>NaN</td>\n",
       "      <td>2016-06-18</td>\n",
       "      <td>2016-06</td>\n",
       "      <td>6</td>\n",
       "      <td>2016</td>\n",
       "      <td>Summer</td>\n",
       "    </tr>\n",
       "    <tr>\n",
       "      <th>1</th>\n",
       "      <td>A002</td>\n",
       "      <td>R051</td>\n",
       "      <td>02-00-00</td>\n",
       "      <td>59 ST</td>\n",
       "      <td>NQR456</td>\n",
       "      <td>BMT</td>\n",
       "      <td>06/18/2016</td>\n",
       "      <td>04:00:00</td>\n",
       "      <td>REGULAR</td>\n",
       "      <td>5704958</td>\n",
       "      <td>1934829</td>\n",
       "      <td>2016-06-18 04:00:00</td>\n",
       "      <td>5704958.0</td>\n",
       "      <td>1934814.0</td>\n",
       "      <td>2016-06-18 00:00:00</td>\n",
       "      <td>0.0</td>\n",
       "      <td>15.0</td>\n",
       "      <td>2016-06-18</td>\n",
       "      <td>2016-06</td>\n",
       "      <td>6</td>\n",
       "      <td>2016</td>\n",
       "      <td>Summer</td>\n",
       "    </tr>\n",
       "    <tr>\n",
       "      <th>2</th>\n",
       "      <td>A002</td>\n",
       "      <td>R051</td>\n",
       "      <td>02-00-00</td>\n",
       "      <td>59 ST</td>\n",
       "      <td>NQR456</td>\n",
       "      <td>BMT</td>\n",
       "      <td>06/18/2016</td>\n",
       "      <td>08:00:00</td>\n",
       "      <td>REGULAR</td>\n",
       "      <td>5704958</td>\n",
       "      <td>1934886</td>\n",
       "      <td>2016-06-18 08:00:00</td>\n",
       "      <td>5704958.0</td>\n",
       "      <td>1934829.0</td>\n",
       "      <td>2016-06-18 04:00:00</td>\n",
       "      <td>0.0</td>\n",
       "      <td>57.0</td>\n",
       "      <td>2016-06-18</td>\n",
       "      <td>2016-06</td>\n",
       "      <td>6</td>\n",
       "      <td>2016</td>\n",
       "      <td>Summer</td>\n",
       "    </tr>\n",
       "    <tr>\n",
       "      <th>3</th>\n",
       "      <td>A002</td>\n",
       "      <td>R051</td>\n",
       "      <td>02-00-00</td>\n",
       "      <td>59 ST</td>\n",
       "      <td>NQR456</td>\n",
       "      <td>BMT</td>\n",
       "      <td>06/18/2016</td>\n",
       "      <td>12:00:00</td>\n",
       "      <td>REGULAR</td>\n",
       "      <td>5704958</td>\n",
       "      <td>1934993</td>\n",
       "      <td>2016-06-18 12:00:00</td>\n",
       "      <td>5704958.0</td>\n",
       "      <td>1934886.0</td>\n",
       "      <td>2016-06-18 08:00:00</td>\n",
       "      <td>0.0</td>\n",
       "      <td>107.0</td>\n",
       "      <td>2016-06-18</td>\n",
       "      <td>2016-06</td>\n",
       "      <td>6</td>\n",
       "      <td>2016</td>\n",
       "      <td>Summer</td>\n",
       "    </tr>\n",
       "    <tr>\n",
       "      <th>4</th>\n",
       "      <td>A002</td>\n",
       "      <td>R051</td>\n",
       "      <td>02-00-00</td>\n",
       "      <td>59 ST</td>\n",
       "      <td>NQR456</td>\n",
       "      <td>BMT</td>\n",
       "      <td>06/18/2016</td>\n",
       "      <td>16:00:00</td>\n",
       "      <td>REGULAR</td>\n",
       "      <td>5704958</td>\n",
       "      <td>1935069</td>\n",
       "      <td>2016-06-18 16:00:00</td>\n",
       "      <td>5704958.0</td>\n",
       "      <td>1934993.0</td>\n",
       "      <td>2016-06-18 12:00:00</td>\n",
       "      <td>0.0</td>\n",
       "      <td>76.0</td>\n",
       "      <td>2016-06-18</td>\n",
       "      <td>2016-06</td>\n",
       "      <td>6</td>\n",
       "      <td>2016</td>\n",
       "      <td>Summer</td>\n",
       "    </tr>\n",
       "  </tbody>\n",
       "</table>\n",
       "</div>"
      ],
      "text/plain": [
       "  control_area  unit       scp station linename division        date  \\\n",
       "0         A002  R051  02-00-00   59 ST   NQR456      BMT  06/18/2016   \n",
       "1         A002  R051  02-00-00   59 ST   NQR456      BMT  06/18/2016   \n",
       "2         A002  R051  02-00-00   59 ST   NQR456      BMT  06/18/2016   \n",
       "3         A002  R051  02-00-00   59 ST   NQR456      BMT  06/18/2016   \n",
       "4         A002  R051  02-00-00   59 ST   NQR456      BMT  06/18/2016   \n",
       "\n",
       "       time     desc  cum_entries  cum_exits     parsed_datetime  \\\n",
       "0  00:00:00  REGULAR      5704958    1934814 2016-06-18 00:00:00   \n",
       "1  04:00:00  REGULAR      5704958    1934829 2016-06-18 04:00:00   \n",
       "2  08:00:00  REGULAR      5704958    1934886 2016-06-18 08:00:00   \n",
       "3  12:00:00  REGULAR      5704958    1934993 2016-06-18 12:00:00   \n",
       "4  16:00:00  REGULAR      5704958    1935069 2016-06-18 16:00:00   \n",
       "\n",
       "   shift_cum_entries  shift_cum_exits       shift_datetime  entries  exits  \\\n",
       "0                NaN              NaN                  NaN      NaN    NaN   \n",
       "1          5704958.0        1934814.0  2016-06-18 00:00:00      0.0   15.0   \n",
       "2          5704958.0        1934829.0  2016-06-18 04:00:00      0.0   57.0   \n",
       "3          5704958.0        1934886.0  2016-06-18 08:00:00      0.0  107.0   \n",
       "4          5704958.0        1934993.0  2016-06-18 12:00:00      0.0   76.0   \n",
       "\n",
       "  parsed_date month_year  month  year quarters  \n",
       "0  2016-06-18    2016-06      6  2016   Summer  \n",
       "1  2016-06-18    2016-06      6  2016   Summer  \n",
       "2  2016-06-18    2016-06      6  2016   Summer  \n",
       "3  2016-06-18    2016-06      6  2016   Summer  \n",
       "4  2016-06-18    2016-06      6  2016   Summer  "
      ]
     },
     "execution_count": 6,
     "metadata": {},
     "output_type": "execute_result"
    }
   ],
   "source": [
    "df.head()"
   ]
  },
  {
   "cell_type": "code",
   "execution_count": 7,
   "metadata": {
    "collapsed": true
   },
   "outputs": [],
   "source": [
    "monthly_station_activity = df.groupby(['station','quarters','month_year'])['entries','exits'].sum().reset_index()\n",
    "monthly_station_activity_max = monthly_station_activity.sort_values(['entries','exits'],ascending=[False,False])"
   ]
  },
  {
   "cell_type": "code",
   "execution_count": 8,
   "metadata": {},
   "outputs": [
    {
     "data": {
      "text/plain": [
       "array(['2016-12', '2017-01', '2017-02'], dtype=object)"
      ]
     },
     "execution_count": 8,
     "metadata": {},
     "output_type": "execute_result"
    }
   ],
   "source": [
    "#Flag check\n",
    "monthly_station_activity_max.month_year[monthly_station_activity_max.quarters=='Winter'].unique()"
   ]
  },
  {
   "cell_type": "code",
   "execution_count": 9,
   "metadata": {
    "collapsed": true
   },
   "outputs": [],
   "source": [
    "quarterly_activity_yearly = df.groupby(['quarters','year'])['entries','exits'].sum().reset_index()"
   ]
  },
  {
   "cell_type": "code",
   "execution_count": 10,
   "metadata": {},
   "outputs": [
    {
     "data": {
      "text/html": [
       "<div>\n",
       "<style>\n",
       "    .dataframe thead tr:only-child th {\n",
       "        text-align: right;\n",
       "    }\n",
       "\n",
       "    .dataframe thead th {\n",
       "        text-align: left;\n",
       "    }\n",
       "\n",
       "    .dataframe tbody tr th {\n",
       "        vertical-align: top;\n",
       "    }\n",
       "</style>\n",
       "<table border=\"1\" class=\"dataframe\">\n",
       "  <thead>\n",
       "    <tr style=\"text-align: right;\">\n",
       "      <th></th>\n",
       "      <th>quarters</th>\n",
       "      <th>year</th>\n",
       "      <th>entries</th>\n",
       "      <th>exits</th>\n",
       "    </tr>\n",
       "  </thead>\n",
       "  <tbody>\n",
       "    <tr>\n",
       "      <th>0</th>\n",
       "      <td>Fall</td>\n",
       "      <td>2016</td>\n",
       "      <td>461008007.0</td>\n",
       "      <td>348766069.0</td>\n",
       "    </tr>\n",
       "    <tr>\n",
       "      <th>1</th>\n",
       "      <td>Spring</td>\n",
       "      <td>2017</td>\n",
       "      <td>468182468.0</td>\n",
       "      <td>356877890.0</td>\n",
       "    </tr>\n",
       "    <tr>\n",
       "      <th>2</th>\n",
       "      <td>Summer</td>\n",
       "      <td>2016</td>\n",
       "      <td>358646395.0</td>\n",
       "      <td>276555797.0</td>\n",
       "    </tr>\n",
       "    <tr>\n",
       "      <th>3</th>\n",
       "      <td>Summer</td>\n",
       "      <td>2017</td>\n",
       "      <td>120725502.0</td>\n",
       "      <td>92785185.0</td>\n",
       "    </tr>\n",
       "    <tr>\n",
       "      <th>4</th>\n",
       "      <td>Winter</td>\n",
       "      <td>2016</td>\n",
       "      <td>152282754.0</td>\n",
       "      <td>115248759.0</td>\n",
       "    </tr>\n",
       "  </tbody>\n",
       "</table>\n",
       "</div>"
      ],
      "text/plain": [
       "  quarters  year      entries        exits\n",
       "0     Fall  2016  461008007.0  348766069.0\n",
       "1   Spring  2017  468182468.0  356877890.0\n",
       "2   Summer  2016  358646395.0  276555797.0\n",
       "3   Summer  2017  120725502.0   92785185.0\n",
       "4   Winter  2016  152282754.0  115248759.0"
      ]
     },
     "execution_count": 10,
     "metadata": {},
     "output_type": "execute_result"
    }
   ],
   "source": [
    "quarterly_activity_yearly.head()"
   ]
  },
  {
   "cell_type": "code",
   "execution_count": 11,
   "metadata": {
    "collapsed": true
   },
   "outputs": [],
   "source": [
    "quarterly_activity = df.groupby('quarters')['entries','exits'].sum().reset_index()"
   ]
  },
  {
   "cell_type": "code",
   "execution_count": 12,
   "metadata": {},
   "outputs": [
    {
     "data": {
      "text/plain": [
       "<matplotlib.text.Text at 0x188c4ce80>"
      ]
     },
     "execution_count": 12,
     "metadata": {},
     "output_type": "execute_result"
    },
    {
     "data": {
      "image/png": "[encoded data removed]",
      "text/plain": [
       "<matplotlib.figure.Figure at 0x13a17d898>"
      ]
     },
     "metadata": {},
     "output_type": "display_data"
    },
    {
     "data": {
      "image/png": "[encoded data removed]",
      "text/plain": [
       "<matplotlib.figure.Figure at 0x159d0a860>"
      ]
     },
     "metadata": {},
     "output_type": "display_data"
    }
   ],
   "source": [
    "sns.barplot(x='quarters',y='exits',data=quarterly_activity,ci=None)\n",
    "plt.title('Total exits by season')\n",
    "sns.factorplot(x='quarters',y='exits',hue='year',data=quarterly_activity_yearly,kind='bar')\n",
    "plt.title('Total exits by season (split by year)')"
   ]
  },
  {
   "cell_type": "code",
   "execution_count": 9,
   "metadata": {
    "collapsed": true
   },
   "outputs": [],
   "source": [
    "station_activity_quarters = df.groupby(['station','quarters','year'])['exits'].sum().reset_index()\n",
    "station_activity_quarters_max = station_activity_quarters.sort_values('exits',ascending=False)"
   ]
  },
  {
   "cell_type": "code",
   "execution_count": 10,
   "metadata": {
    "collapsed": true
   },
   "outputs": [],
   "source": [
    "#The list of stations with highest activity\n",
    "top_station_list = ['34 ST-PENN STA','GRD CNTRL-42 ST','34 ST-HERALD SQ','23 ST','14 ST-UNION SQ','TIMES SQ-42 ST',\\\n",
    "                    '86 ST','42 ST-PORT AUTH','FULTON ST','125 ST']\n",
    "top_station_activity_quarters = station_activity_quarters_max[station_activity_quarters_max['station']\\\n",
    "                                                              .isin(top_station_list)]"
   ]
  },
  {
   "cell_type": "code",
   "execution_count": 15,
   "metadata": {},
   "outputs": [
    {
     "data": {
      "text/plain": [
       "<matplotlib.text.Text at 0x125ff05f8>"
      ]
     },
     "execution_count": 15,
     "metadata": {},
     "output_type": "execute_result"
    },
    {
     "data": {
      "image/png": "[encoded data removed]",
      "text/plain": [
       "<matplotlib.figure.Figure at 0x181db17f0>"
      ]
     },
     "metadata": {},
     "output_type": "display_data"
    }
   ],
   "source": [
    "station_activity_overall = df.groupby('station')['exits','entries'].sum().reset_index()\n",
    "station_activity_overall_max = station_activity_overall.sort_values(['entries','exits'],ascending=[False,False])\n",
    "top_station_activity_overall = station_activity_overall_max[station_activity_overall_max['station']\\\n",
    "                                                              .isin(top_station_list)]\n",
    "# plot_activity_overall = station_activity_overall_max.head(10)\n",
    "sns.barplot(x='exits',y='station',data=top_station_activity_overall,ci=None)\n",
    "plt.title(\"Stations with the highest exits between June 18, 2016 and June 24, 2017\")\n",
    "# sns.barplot(x='entries',y='station',data=plot_station_activity_max)\n",
    "# # g1.set_xticklabels(rotation = 90)\n",
    "# # g2.set_xticklabels(rotation = 90)\n",
    "# plt.title(\"Stations with the highest entries between June 18, 2016 and June 24, 2017\")"
   ]
  },
  {
   "cell_type": "code",
   "execution_count": 16,
   "metadata": {
    "collapsed": true
   },
   "outputs": [],
   "source": [
    "# sns.factorplot(x='entries',y='station',data=plot_station_activity_max,hue='quarters',kind='bar',size=6,aspect=2)\n",
    "# # g1.set_xticklabels(rotation = 90)\n",
    "# # g2.set_xticklabels(rotation = 90)\n",
    "# plt.title(\"Entries of stations with the highest activity between June 18, 2016 and June 24, 2017\")"
   ]
  },
  {
   "cell_type": "code",
   "execution_count": 17,
   "metadata": {
    "collapsed": true
   },
   "outputs": [],
   "source": [
    "# sns.factorplot(x='exits',y='station',data=top_station_activity_quarters,hue='quarters',kind='bar',size=6,aspect=2,ci=None)\n",
    "# # g1.set_xticklabels(rotation = 90)\n",
    "# # g2.set_xticklabels(rotation = 90)\n",
    "# plt.title(\"Exits of stations with the highest activity between June 18, 2016 and June 24, 2017\")"
   ]
  },
  {
   "cell_type": "code",
   "execution_count": 18,
   "metadata": {},
   "outputs": [
    {
     "data": {
      "image/png": "[encoded data removed]",
      "text/plain": [
       "<matplotlib.figure.Figure at 0x186f41c50>"
      ]
     },
     "metadata": {},
     "output_type": "display_data"
    }
   ],
   "source": [
    "g = sns.FacetGrid(top_station_activity_quarters, col=\"station\", row=\"quarters\")\n",
    "# Notice hwo the arguments come after plt.scatter call\n",
    "g = g.map(plt.bar, 'year','exits').add_legend()"
   ]
  },
  {
   "cell_type": "code",
   "execution_count": 17,
   "metadata": {
    "collapsed": true
   },
   "outputs": [],
   "source": [
    "# station_exits = df.groupby('station')['exits'].sum().reset_index()"
   ]
  },
  {
   "cell_type": "code",
   "execution_count": 18,
   "metadata": {
    "collapsed": true
   },
   "outputs": [],
   "source": [
    "# station_max_exits = station_exits.sort_values('exits',ascending=False)"
   ]
  },
  {
   "cell_type": "code",
   "execution_count": 19,
   "metadata": {
    "collapsed": true
   },
   "outputs": [],
   "source": [
    "# plot_station_max_exits = station_max_exits.head(10)"
   ]
  },
  {
   "cell_type": "code",
   "execution_count": 107,
   "metadata": {
    "collapsed": true
   },
   "outputs": [],
   "source": [
    "# station_max_exits.tail(10)"
   ]
  },
  {
   "cell_type": "code",
   "execution_count": 21,
   "metadata": {
    "collapsed": true
   },
   "outputs": [],
   "source": [
    "# station_entries = df.groupby('station')['entries'].sum().reset_index()"
   ]
  },
  {
   "cell_type": "code",
   "execution_count": 22,
   "metadata": {
    "collapsed": true
   },
   "outputs": [],
   "source": [
    "# station_entries_max = station_entries.sort_values('entries',ascending=False)"
   ]
  },
  {
   "cell_type": "code",
   "execution_count": 23,
   "metadata": {
    "collapsed": true
   },
   "outputs": [],
   "source": [
    "# plot_station_max_entries = station_entries_max.head(10)"
   ]
  },
  {
   "cell_type": "code",
   "execution_count": 108,
   "metadata": {
    "collapsed": true
   },
   "outputs": [],
   "source": [
    "# station_entries_max.tail(10)"
   ]
  },
  {
   "cell_type": "code",
   "execution_count": 79,
   "metadata": {
    "collapsed": true
   },
   "outputs": [],
   "source": [
    "# g = sns.barplot(x='exits',y='station',data=plot_station_max_exits)\n",
    "# # g.set_xticklabels(rotation = 0)\n",
    "# plt.title(\"Stations with the highest number of exits between June 18, 2016 and June 24, 2017\")"
   ]
  },
  {
   "cell_type": "code",
   "execution_count": 80,
   "metadata": {
    "collapsed": true
   },
   "outputs": [],
   "source": [
    "# g = sns.barplot(x='entries',y='station',data=plot_station_max_entries)\n",
    "# # g.set_xticklabels(rotation = 45)\n",
    "# plt.title(\"Stations with the highest number of entries between June 18, 2016 and June 24, 2017\")"
   ]
  },
  {
   "cell_type": "code",
   "execution_count": 1,
   "metadata": {
    "collapsed": true
   },
   "outputs": [],
   "source": [
    "# station_exits_pivot = df.pivot_table(values='exits',index='station',columns='month_year')"
   ]
  },
  {
   "cell_type": "code",
   "execution_count": 2,
   "metadata": {
    "collapsed": true
   },
   "outputs": [],
   "source": [
    "# plt.figure(figsize=(20,60))\n",
    "# sns.heatmap(station_exits_pivot)"
   ]
  },
  {
   "cell_type": "code",
   "execution_count": 3,
   "metadata": {
    "collapsed": true
   },
   "outputs": [],
   "source": [
    "# monthly_plot_exits = monthly_exits_station.pivot_table(values='exits',index='station',columns='quarters')"
   ]
  },
  {
   "cell_type": "code",
   "execution_count": 4,
   "metadata": {
    "collapsed": true
   },
   "outputs": [],
   "source": [
    "# plt.figure(figsize=(30,70))\n",
    "# sns.heatmap(monthly_plot_exits)"
   ]
  },
  {
   "cell_type": "code",
   "execution_count": null,
   "metadata": {
    "collapsed": true
   },
   "outputs": [],
   "source": [
    "# top_stations_by_entries = df.sort_values('station').groupby(['quarters','month_year'])['entries','exits'].apply(lambda grp: grp.nlargest(2).sum())"
   ]
  },
  {
   "cell_type": "code",
   "execution_count": 109,
   "metadata": {
    "collapsed": true
   },
   "outputs": [],
   "source": [
    "\n"
   ]
  },
  {
   "cell_type": "code",
   "execution_count": 11,
   "metadata": {
    "collapsed": true
   },
   "outputs": [],
   "source": [
    "station_activity_month = df.groupby(['station','month_year'])['exits','entries'].sum().reset_index()\n",
    "#Getting the data for only the top 9 stations\n",
    "top_stations_activity_month = station_activity_month[station_activity_month['station'].isin(top_station_list)]\n",
    "top_station_activity_month_max = top_stations_activity_month.sort_values(['entries','exits'],ascending=[False,False])\n"
   ]
  },
  {
   "cell_type": "code",
   "execution_count": 102,
   "metadata": {
    "collapsed": true
   },
   "outputs": [],
   "source": []
  },
  {
   "cell_type": "code",
   "execution_count": 98,
   "metadata": {
    "collapsed": true
   },
   "outputs": [],
   "source": [
    "# station_activity_month_max.head(140)"
   ]
  },
  {
   "cell_type": "code",
   "execution_count": 12,
   "metadata": {
    "collapsed": true
   },
   "outputs": [],
   "source": [
    "station_month_pivot = top_station_activity_month_max.pivot_table(values='exits',index='station',columns='month_year')"
   ]
  },
  {
   "cell_type": "code",
   "execution_count": 45,
   "metadata": {},
   "outputs": [
    {
     "data": {
      "text/plain": [
       "<matplotlib.text.Text at 0x12d8541d0>"
      ]
     },
     "execution_count": 45,
     "metadata": {},
     "output_type": "execute_result"
    },
    {
     "data": {
      "image/png": "[encoded data removed]",
      "text/plain": [
       "<matplotlib.figure.Figure at 0x16e14feb8>"
      ]
     },
     "metadata": {},
     "output_type": "display_data"
    }
   ],
   "source": [
    "plt.figure(figsize=(12,10))\n",
    "sns.heatmap(station_month_pivot,cmap='OrRd')\n",
    "plt.title('Monthly Exit Activity of Top 10 Stations')"
   ]
  },
  {
   "cell_type": "code",
   "execution_count": 33,
   "metadata": {},
   "outputs": [
    {
     "name": "stderr",
     "output_type": "stream",
     "text": [
      "/Users/chinnu/anaconda/lib/python3.6/site-packages/matplotlib/cbook.py:136: MatplotlibDeprecationWarning: The axisbg attribute was deprecated in version 2.0. Use facecolor instead.\n",
      "  warnings.warn(message, mplDeprecation, stacklevel=1)\n"
     ]
    },
    {
     "data": {
      "text/plain": [
       "<matplotlib.figure.Figure at 0x14bfd7b38>"
      ]
     },
     "metadata": {},
     "output_type": "display_data"
    },
    {
     "data": {
      "image/png": "[encoded data removed]",
      "text/plain": [
       "<matplotlib.figure.Figure at 0x14bfd7710>"
      ]
     },
     "metadata": {},
     "output_type": "display_data"
    }
   ],
   "source": [
    "# station_month_pivot_clustermap = top_station_activity_month_max.pivot_table\\\n",
    "#                                 (values='exits',index='month_year',columns='station')\n",
    "plt.figure(figsize=(15,13))\n",
    "cg = sns.clustermap(station_month_pivot,cmap='OrRd')\n",
    "hm = cg.ax_heatmap.get_position()\n",
    "cg.ax_heatmap.set_position([hm.x0, hm.y0, hm.width*1.5, hm.height*1.5])\n",
    "cg.ax_row_dendrogram.set_visible(False)\n",
    "cg.ax_col_dendrogram.set_visible(False)\n",
    "plt.setp(cg.ax_heatmap.get_yticklabels(), rotation=0);\n",
    "plt.setp(cg.ax_heatmap.get_xticklabels(), rotation=0);\n"
   ]
  },
  {
   "cell_type": "code",
   "execution_count": 38,
   "metadata": {
    "collapsed": true
   },
   "outputs": [],
   "source": [
    "#Looking at weekend data\n",
    "df['weekday'] = df['parsed_date'].map(lambda x: x.weekday())"
   ]
  },
  {
   "cell_type": "code",
   "execution_count": 23,
   "metadata": {},
   "outputs": [
    {
     "data": {
      "text/html": [
       "<div>\n",
       "<style>\n",
       "    .dataframe thead tr:only-child th {\n",
       "        text-align: right;\n",
       "    }\n",
       "\n",
       "    .dataframe thead th {\n",
       "        text-align: left;\n",
       "    }\n",
       "\n",
       "    .dataframe tbody tr th {\n",
       "        vertical-align: top;\n",
       "    }\n",
       "</style>\n",
       "<table border=\"1\" class=\"dataframe\">\n",
       "  <thead>\n",
       "    <tr style=\"text-align: right;\">\n",
       "      <th></th>\n",
       "      <th>control_area</th>\n",
       "      <th>unit</th>\n",
       "      <th>scp</th>\n",
       "      <th>station</th>\n",
       "      <th>linename</th>\n",
       "      <th>division</th>\n",
       "      <th>date</th>\n",
       "      <th>time</th>\n",
       "      <th>desc</th>\n",
       "      <th>cum_entries</th>\n",
       "      <th>cum_exits</th>\n",
       "      <th>parsed_datetime</th>\n",
       "      <th>shift_cum_entries</th>\n",
       "      <th>shift_cum_exits</th>\n",
       "      <th>shift_datetime</th>\n",
       "      <th>entries</th>\n",
       "      <th>exits</th>\n",
       "      <th>parsed_date</th>\n",
       "      <th>month_year</th>\n",
       "      <th>month</th>\n",
       "      <th>year</th>\n",
       "      <th>quarters</th>\n",
       "      <th>weekday</th>\n",
       "    </tr>\n",
       "  </thead>\n",
       "  <tbody>\n",
       "    <tr>\n",
       "      <th>0</th>\n",
       "      <td>A002</td>\n",
       "      <td>R051</td>\n",
       "      <td>02-00-00</td>\n",
       "      <td>59 ST</td>\n",
       "      <td>NQR456</td>\n",
       "      <td>BMT</td>\n",
       "      <td>06/18/2016</td>\n",
       "      <td>00:00:00</td>\n",
       "      <td>REGULAR</td>\n",
       "      <td>5704958</td>\n",
       "      <td>1934814</td>\n",
       "      <td>2016-06-18 00:00:00</td>\n",
       "      <td>NaN</td>\n",
       "      <td>NaN</td>\n",
       "      <td>NaN</td>\n",
       "      <td>NaN</td>\n",
       "      <td>NaN</td>\n",
       "      <td>2016-06-18</td>\n",
       "      <td>2016-06</td>\n",
       "      <td>6</td>\n",
       "      <td>2016</td>\n",
       "      <td>Summer</td>\n",
       "      <td>5</td>\n",
       "    </tr>\n",
       "    <tr>\n",
       "      <th>1</th>\n",
       "      <td>A002</td>\n",
       "      <td>R051</td>\n",
       "      <td>02-00-00</td>\n",
       "      <td>59 ST</td>\n",
       "      <td>NQR456</td>\n",
       "      <td>BMT</td>\n",
       "      <td>06/18/2016</td>\n",
       "      <td>04:00:00</td>\n",
       "      <td>REGULAR</td>\n",
       "      <td>5704958</td>\n",
       "      <td>1934829</td>\n",
       "      <td>2016-06-18 04:00:00</td>\n",
       "      <td>5704958.0</td>\n",
       "      <td>1934814.0</td>\n",
       "      <td>2016-06-18 00:00:00</td>\n",
       "      <td>0.0</td>\n",
       "      <td>15.0</td>\n",
       "      <td>2016-06-18</td>\n",
       "      <td>2016-06</td>\n",
       "      <td>6</td>\n",
       "      <td>2016</td>\n",
       "      <td>Summer</td>\n",
       "      <td>5</td>\n",
       "    </tr>\n",
       "    <tr>\n",
       "      <th>2</th>\n",
       "      <td>A002</td>\n",
       "      <td>R051</td>\n",
       "      <td>02-00-00</td>\n",
       "      <td>59 ST</td>\n",
       "      <td>NQR456</td>\n",
       "      <td>BMT</td>\n",
       "      <td>06/18/2016</td>\n",
       "      <td>08:00:00</td>\n",
       "      <td>REGULAR</td>\n",
       "      <td>5704958</td>\n",
       "      <td>1934886</td>\n",
       "      <td>2016-06-18 08:00:00</td>\n",
       "      <td>5704958.0</td>\n",
       "      <td>1934829.0</td>\n",
       "      <td>2016-06-18 04:00:00</td>\n",
       "      <td>0.0</td>\n",
       "      <td>57.0</td>\n",
       "      <td>2016-06-18</td>\n",
       "      <td>2016-06</td>\n",
       "      <td>6</td>\n",
       "      <td>2016</td>\n",
       "      <td>Summer</td>\n",
       "      <td>5</td>\n",
       "    </tr>\n",
       "    <tr>\n",
       "      <th>3</th>\n",
       "      <td>A002</td>\n",
       "      <td>R051</td>\n",
       "      <td>02-00-00</td>\n",
       "      <td>59 ST</td>\n",
       "      <td>NQR456</td>\n",
       "      <td>BMT</td>\n",
       "      <td>06/18/2016</td>\n",
       "      <td>12:00:00</td>\n",
       "      <td>REGULAR</td>\n",
       "      <td>5704958</td>\n",
       "      <td>1934993</td>\n",
       "      <td>2016-06-18 12:00:00</td>\n",
       "      <td>5704958.0</td>\n",
       "      <td>1934886.0</td>\n",
       "      <td>2016-06-18 08:00:00</td>\n",
       "      <td>0.0</td>\n",
       "      <td>107.0</td>\n",
       "      <td>2016-06-18</td>\n",
       "      <td>2016-06</td>\n",
       "      <td>6</td>\n",
       "      <td>2016</td>\n",
       "      <td>Summer</td>\n",
       "      <td>5</td>\n",
       "    </tr>\n",
       "    <tr>\n",
       "      <th>4</th>\n",
       "      <td>A002</td>\n",
       "      <td>R051</td>\n",
       "      <td>02-00-00</td>\n",
       "      <td>59 ST</td>\n",
       "      <td>NQR456</td>\n",
       "      <td>BMT</td>\n",
       "      <td>06/18/2016</td>\n",
       "      <td>16:00:00</td>\n",
       "      <td>REGULAR</td>\n",
       "      <td>5704958</td>\n",
       "      <td>1935069</td>\n",
       "      <td>2016-06-18 16:00:00</td>\n",
       "      <td>5704958.0</td>\n",
       "      <td>1934993.0</td>\n",
       "      <td>2016-06-18 12:00:00</td>\n",
       "      <td>0.0</td>\n",
       "      <td>76.0</td>\n",
       "      <td>2016-06-18</td>\n",
       "      <td>2016-06</td>\n",
       "      <td>6</td>\n",
       "      <td>2016</td>\n",
       "      <td>Summer</td>\n",
       "      <td>5</td>\n",
       "    </tr>\n",
       "  </tbody>\n",
       "</table>\n",
       "</div>"
      ],
      "text/plain": [
       "  control_area  unit       scp station linename division        date  \\\n",
       "0         A002  R051  02-00-00   59 ST   NQR456      BMT  06/18/2016   \n",
       "1         A002  R051  02-00-00   59 ST   NQR456      BMT  06/18/2016   \n",
       "2         A002  R051  02-00-00   59 ST   NQR456      BMT  06/18/2016   \n",
       "3         A002  R051  02-00-00   59 ST   NQR456      BMT  06/18/2016   \n",
       "4         A002  R051  02-00-00   59 ST   NQR456      BMT  06/18/2016   \n",
       "\n",
       "       time     desc  cum_entries  cum_exits     parsed_datetime  \\\n",
       "0  00:00:00  REGULAR      5704958    1934814 2016-06-18 00:00:00   \n",
       "1  04:00:00  REGULAR      5704958    1934829 2016-06-18 04:00:00   \n",
       "2  08:00:00  REGULAR      5704958    1934886 2016-06-18 08:00:00   \n",
       "3  12:00:00  REGULAR      5704958    1934993 2016-06-18 12:00:00   \n",
       "4  16:00:00  REGULAR      5704958    1935069 2016-06-18 16:00:00   \n",
       "\n",
       "   shift_cum_entries  shift_cum_exits       shift_datetime  entries  exits  \\\n",
       "0                NaN              NaN                  NaN      NaN    NaN   \n",
       "1          5704958.0        1934814.0  2016-06-18 00:00:00      0.0   15.0   \n",
       "2          5704958.0        1934829.0  2016-06-18 04:00:00      0.0   57.0   \n",
       "3          5704958.0        1934886.0  2016-06-18 08:00:00      0.0  107.0   \n",
       "4          5704958.0        1934993.0  2016-06-18 12:00:00      0.0   76.0   \n",
       "\n",
       "  parsed_date month_year  month  year quarters  weekday  \n",
       "0  2016-06-18    2016-06      6  2016   Summer        5  \n",
       "1  2016-06-18    2016-06      6  2016   Summer        5  \n",
       "2  2016-06-18    2016-06      6  2016   Summer        5  \n",
       "3  2016-06-18    2016-06      6  2016   Summer        5  \n",
       "4  2016-06-18    2016-06      6  2016   Summer        5  "
      ]
     },
     "execution_count": 23,
     "metadata": {},
     "output_type": "execute_result"
    }
   ],
   "source": [
    "df.head()"
   ]
  },
  {
   "cell_type": "code",
   "execution_count": 39,
   "metadata": {
    "collapsed": true
   },
   "outputs": [],
   "source": [
    "weekend = [5,6]\n",
    "df['weekend_flag'] = df['weekday'].map(lambda x: 'weekend' if x in weekend else 'weekday')"
   ]
  },
  {
   "cell_type": "code",
   "execution_count": 40,
   "metadata": {},
   "outputs": [
    {
     "data": {
      "text/html": [
       "<div>\n",
       "<style>\n",
       "    .dataframe thead tr:only-child th {\n",
       "        text-align: right;\n",
       "    }\n",
       "\n",
       "    .dataframe thead th {\n",
       "        text-align: left;\n",
       "    }\n",
       "\n",
       "    .dataframe tbody tr th {\n",
       "        vertical-align: top;\n",
       "    }\n",
       "</style>\n",
       "<table border=\"1\" class=\"dataframe\">\n",
       "  <thead>\n",
       "    <tr style=\"text-align: right;\">\n",
       "      <th></th>\n",
       "      <th>weekday</th>\n",
       "      <th>weekend_flag</th>\n",
       "      <th>exits</th>\n",
       "    </tr>\n",
       "  </thead>\n",
       "  <tbody>\n",
       "    <tr>\n",
       "      <th>0</th>\n",
       "      <td>0</td>\n",
       "      <td>weekday</td>\n",
       "      <td>208961756.0</td>\n",
       "    </tr>\n",
       "    <tr>\n",
       "      <th>1</th>\n",
       "      <td>1</td>\n",
       "      <td>weekday</td>\n",
       "      <td>229644872.0</td>\n",
       "    </tr>\n",
       "    <tr>\n",
       "      <th>2</th>\n",
       "      <td>2</td>\n",
       "      <td>weekday</td>\n",
       "      <td>237710764.0</td>\n",
       "    </tr>\n",
       "    <tr>\n",
       "      <th>3</th>\n",
       "      <td>3</td>\n",
       "      <td>weekday</td>\n",
       "      <td>234955641.0</td>\n",
       "    </tr>\n",
       "    <tr>\n",
       "      <th>4</th>\n",
       "      <td>4</td>\n",
       "      <td>weekday</td>\n",
       "      <td>231650765.0</td>\n",
       "    </tr>\n",
       "    <tr>\n",
       "      <th>5</th>\n",
       "      <td>5</td>\n",
       "      <td>weekend</td>\n",
       "      <td>144002782.0</td>\n",
       "    </tr>\n",
       "    <tr>\n",
       "      <th>6</th>\n",
       "      <td>6</td>\n",
       "      <td>weekend</td>\n",
       "      <td>117152139.0</td>\n",
       "    </tr>\n",
       "  </tbody>\n",
       "</table>\n",
       "</div>"
      ],
      "text/plain": [
       "   weekday weekend_flag        exits\n",
       "0        0      weekday  208961756.0\n",
       "1        1      weekday  229644872.0\n",
       "2        2      weekday  237710764.0\n",
       "3        3      weekday  234955641.0\n",
       "4        4      weekday  231650765.0\n",
       "5        5      weekend  144002782.0\n",
       "6        6      weekend  117152139.0"
      ]
     },
     "execution_count": 40,
     "metadata": {},
     "output_type": "execute_result"
    }
   ],
   "source": [
    "#sanity check\n",
    "df.groupby(['weekday','weekend_flag'])['exits'].sum().reset_index()"
   ]
  },
  {
   "cell_type": "code",
   "execution_count": 41,
   "metadata": {
    "collapsed": true
   },
   "outputs": [],
   "source": [
    "weekend_data = df[df['weekend_flag']=='weekend']\n",
    "weekend_station_activity = weekend_data.groupby(['station','quarters','weekend_flag','year'])['exits','entries'].sum().reset_index()"
   ]
  },
  {
   "cell_type": "code",
   "execution_count": 42,
   "metadata": {},
   "outputs": [
    {
     "data": {
      "text/plain": [
       "<matplotlib.text.Text at 0x1709a0588>"
      ]
     },
     "execution_count": 42,
     "metadata": {},
     "output_type": "execute_result"
    },
    {
     "data": {
      "image/png": "[encoded data removed]",
      "text/plain": [
       "<matplotlib.figure.Figure at 0x143b9a080>"
      ]
     },
     "metadata": {},
     "output_type": "display_data"
    }
   ],
   "source": [
    "\n",
    "sns.factorplot(x='quarters',y='exits',hue='year',data=weekend_station_activity,ci=None,kind='bar')\n",
    "plt.title('Weekend exits')\n",
    "\n",
    "# sns.factorplot(x='quarters',y='entries',hue='year',data=weekend_station_activity,ci=None,kind='bar')\n",
    "# plt.title('Weekend entries')"
   ]
  },
  {
   "cell_type": "code",
   "execution_count": 28,
   "metadata": {
    "collapsed": true
   },
   "outputs": [],
   "source": [
    "top_station_weekend_activity = weekend_station_activity[weekend_station_activity['station'].isin(top_station_list)]"
   ]
  },
  {
   "cell_type": "code",
   "execution_count": 29,
   "metadata": {
    "collapsed": true
   },
   "outputs": [],
   "source": [
    "top_weekend_station_activity_max = top_station_weekend_activity.sort_values(['entries','exits'],ascending=[False,False])"
   ]
  },
  {
   "cell_type": "code",
   "execution_count": 30,
   "metadata": {},
   "outputs": [
    {
     "data": {
      "text/html": [
       "<div>\n",
       "<style>\n",
       "    .dataframe thead tr:only-child th {\n",
       "        text-align: right;\n",
       "    }\n",
       "\n",
       "    .dataframe thead th {\n",
       "        text-align: left;\n",
       "    }\n",
       "\n",
       "    .dataframe tbody tr th {\n",
       "        vertical-align: top;\n",
       "    }\n",
       "</style>\n",
       "<table border=\"1\" class=\"dataframe\">\n",
       "  <thead>\n",
       "    <tr style=\"text-align: right;\">\n",
       "      <th></th>\n",
       "      <th>station</th>\n",
       "      <th>quarters</th>\n",
       "      <th>weekend_flag</th>\n",
       "      <th>year</th>\n",
       "      <th>exits</th>\n",
       "      <th>entries</th>\n",
       "    </tr>\n",
       "  </thead>\n",
       "  <tbody>\n",
       "    <tr>\n",
       "      <th>366</th>\n",
       "      <td>34 ST-PENN STA</td>\n",
       "      <td>Fall</td>\n",
       "      <td>weekend</td>\n",
       "      <td>2016</td>\n",
       "      <td>1983939.0</td>\n",
       "      <td>2225115.0</td>\n",
       "    </tr>\n",
       "    <tr>\n",
       "      <th>367</th>\n",
       "      <td>34 ST-PENN STA</td>\n",
       "      <td>Spring</td>\n",
       "      <td>weekend</td>\n",
       "      <td>2017</td>\n",
       "      <td>2006469.0</td>\n",
       "      <td>2184564.0</td>\n",
       "    </tr>\n",
       "    <tr>\n",
       "      <th>84</th>\n",
       "      <td>14 ST-UNION SQ</td>\n",
       "      <td>Fall</td>\n",
       "      <td>weekend</td>\n",
       "      <td>2016</td>\n",
       "      <td>1616631.0</td>\n",
       "      <td>1863127.0</td>\n",
       "    </tr>\n",
       "    <tr>\n",
       "      <th>85</th>\n",
       "      <td>14 ST-UNION SQ</td>\n",
       "      <td>Spring</td>\n",
       "      <td>weekend</td>\n",
       "      <td>2017</td>\n",
       "      <td>1510595.0</td>\n",
       "      <td>1799185.0</td>\n",
       "    </tr>\n",
       "    <tr>\n",
       "      <th>368</th>\n",
       "      <td>34 ST-PENN STA</td>\n",
       "      <td>Summer</td>\n",
       "      <td>weekend</td>\n",
       "      <td>2016</td>\n",
       "      <td>1567763.0</td>\n",
       "      <td>1763768.0</td>\n",
       "    </tr>\n",
       "  </tbody>\n",
       "</table>\n",
       "</div>"
      ],
      "text/plain": [
       "            station quarters weekend_flag  year      exits    entries\n",
       "366  34 ST-PENN STA     Fall      weekend  2016  1983939.0  2225115.0\n",
       "367  34 ST-PENN STA   Spring      weekend  2017  2006469.0  2184564.0\n",
       "84   14 ST-UNION SQ     Fall      weekend  2016  1616631.0  1863127.0\n",
       "85   14 ST-UNION SQ   Spring      weekend  2017  1510595.0  1799185.0\n",
       "368  34 ST-PENN STA   Summer      weekend  2016  1567763.0  1763768.0"
      ]
     },
     "execution_count": 30,
     "metadata": {},
     "output_type": "execute_result"
    }
   ],
   "source": [
    "top_weekend_station_activity_max.head(5)"
   ]
  },
  {
   "cell_type": "code",
   "execution_count": 82,
   "metadata": {
    "collapsed": true
   },
   "outputs": [],
   "source": [
    "# sns.factorplot(x='entries',y='station',data=top_weekend_station_activity_max,hue='quarters',kind='bar',size=6,aspect=2)\n",
    "# # g1.set_xticklabels(rotation = 90)\n",
    "# # g2.set_xticklabels(rotation = 90)\n",
    "# plt.title(\"Weekend entries of stations with the highest activity between June 18, 2016 and June 24, 2017\")"
   ]
  },
  {
   "cell_type": "code",
   "execution_count": 83,
   "metadata": {
    "collapsed": true
   },
   "outputs": [],
   "source": [
    "# sns.factorplot(x='exits',y='station',data=top_weekend_station_activity_max,hue='quarters',kind='bar',size=6,aspect=2)\n",
    "# # g1.set_xticklabels(rotation = 90)\n",
    "# # g2.set_xticklabels(rotation = 90)\n",
    "# plt.title(\"Weekend exits of stations with the highest activity between June 18, 2016 and June 24, 2017\")"
   ]
  },
  {
   "cell_type": "code",
   "execution_count": 71,
   "metadata": {
    "collapsed": true
   },
   "outputs": [],
   "source": [
    "#Observing weekend exit activity\n",
    "weekend_station_activity_month = weekend_data.groupby(['month_year','weekend_flag'])\\\n",
    "                                    ['exits','entries'].sum().reset_index()"
   ]
  },
  {
   "cell_type": "code",
   "execution_count": 72,
   "metadata": {},
   "outputs": [
    {
     "data": {
      "text/plain": [
       "<matplotlib.text.Text at 0x16ff5cb00>"
      ]
     },
     "execution_count": 72,
     "metadata": {},
     "output_type": "execute_result"
    },
    {
     "data": {
      "image/png": "[encoded data removed]",
      "text/plain": [
       "<matplotlib.figure.Figure at 0x113167dd8>"
      ]
     },
     "metadata": {},
     "output_type": "display_data"
    }
   ],
   "source": [
    "sns.factorplot(x='month_year',y='exits',data=weekend_station_activity_month,size=6,aspect=2,ci=None)\n",
    "plt.title('Monthly Weekend exits activity')"
   ]
  },
  {
   "cell_type": "code",
   "execution_count": 47,
   "metadata": {
    "collapsed": true
   },
   "outputs": [],
   "source": [
    "location_data = pd.read_csv('http://web.mta.info/developers/data/nyct/subway/StationEntrances.csv')"
   ]
  },
  {
   "cell_type": "code",
   "execution_count": 35,
   "metadata": {},
   "outputs": [
    {
     "data": {
      "text/html": [
       "<div>\n",
       "<style>\n",
       "    .dataframe thead tr:only-child th {\n",
       "        text-align: right;\n",
       "    }\n",
       "\n",
       "    .dataframe thead th {\n",
       "        text-align: left;\n",
       "    }\n",
       "\n",
       "    .dataframe tbody tr th {\n",
       "        vertical-align: top;\n",
       "    }\n",
       "</style>\n",
       "<table border=\"1\" class=\"dataframe\">\n",
       "  <thead>\n",
       "    <tr style=\"text-align: right;\">\n",
       "      <th></th>\n",
       "      <th>Division</th>\n",
       "      <th>Line</th>\n",
       "      <th>Station_Name</th>\n",
       "      <th>Station_Latitude</th>\n",
       "      <th>Station_Longitude</th>\n",
       "      <th>Route_1</th>\n",
       "      <th>Route_2</th>\n",
       "      <th>Route_3</th>\n",
       "      <th>Route_4</th>\n",
       "      <th>Route_5</th>\n",
       "      <th>Route_6</th>\n",
       "      <th>Route_7</th>\n",
       "      <th>Route_8</th>\n",
       "      <th>Route_9</th>\n",
       "      <th>Route_10</th>\n",
       "      <th>Route_11</th>\n",
       "      <th>Entrance_Type</th>\n",
       "      <th>Entry</th>\n",
       "      <th>Exit_Only</th>\n",
       "      <th>Vending</th>\n",
       "      <th>Staffing</th>\n",
       "      <th>Staff_Hours</th>\n",
       "      <th>ADA</th>\n",
       "      <th>ADA_Notes</th>\n",
       "      <th>Free_Crossover</th>\n",
       "      <th>North_South_Street</th>\n",
       "      <th>East_West_Street</th>\n",
       "      <th>Corner</th>\n",
       "      <th>Latitude</th>\n",
       "      <th>Longitude</th>\n",
       "    </tr>\n",
       "  </thead>\n",
       "  <tbody>\n",
       "    <tr>\n",
       "      <th>0</th>\n",
       "      <td>BMT</td>\n",
       "      <td>Astoria</td>\n",
       "      <td>Ditmars Blvd</td>\n",
       "      <td>40.775036</td>\n",
       "      <td>-73.912034</td>\n",
       "      <td>N</td>\n",
       "      <td>Q</td>\n",
       "      <td>NaN</td>\n",
       "      <td>NaN</td>\n",
       "      <td>NaN</td>\n",
       "      <td>NaN</td>\n",
       "      <td>NaN</td>\n",
       "      <td>NaN</td>\n",
       "      <td>NaN</td>\n",
       "      <td>NaN</td>\n",
       "      <td>NaN</td>\n",
       "      <td>Stair</td>\n",
       "      <td>YES</td>\n",
       "      <td>NaN</td>\n",
       "      <td>YES</td>\n",
       "      <td>FULL</td>\n",
       "      <td>NaN</td>\n",
       "      <td>False</td>\n",
       "      <td>NaN</td>\n",
       "      <td>True</td>\n",
       "      <td>31st St</td>\n",
       "      <td>23rd Ave</td>\n",
       "      <td>NW</td>\n",
       "      <td>40.775149</td>\n",
       "      <td>-73.912074</td>\n",
       "    </tr>\n",
       "    <tr>\n",
       "      <th>1</th>\n",
       "      <td>BMT</td>\n",
       "      <td>Astoria</td>\n",
       "      <td>Ditmars Blvd</td>\n",
       "      <td>40.775036</td>\n",
       "      <td>-73.912034</td>\n",
       "      <td>N</td>\n",
       "      <td>Q</td>\n",
       "      <td>NaN</td>\n",
       "      <td>NaN</td>\n",
       "      <td>NaN</td>\n",
       "      <td>NaN</td>\n",
       "      <td>NaN</td>\n",
       "      <td>NaN</td>\n",
       "      <td>NaN</td>\n",
       "      <td>NaN</td>\n",
       "      <td>NaN</td>\n",
       "      <td>Stair</td>\n",
       "      <td>YES</td>\n",
       "      <td>NaN</td>\n",
       "      <td>YES</td>\n",
       "      <td>FULL</td>\n",
       "      <td>NaN</td>\n",
       "      <td>False</td>\n",
       "      <td>NaN</td>\n",
       "      <td>True</td>\n",
       "      <td>31st St</td>\n",
       "      <td>23rd Ave</td>\n",
       "      <td>NE</td>\n",
       "      <td>40.774810</td>\n",
       "      <td>-73.912151</td>\n",
       "    </tr>\n",
       "    <tr>\n",
       "      <th>2</th>\n",
       "      <td>BMT</td>\n",
       "      <td>Astoria</td>\n",
       "      <td>Ditmars Blvd</td>\n",
       "      <td>40.775036</td>\n",
       "      <td>-73.912034</td>\n",
       "      <td>N</td>\n",
       "      <td>Q</td>\n",
       "      <td>NaN</td>\n",
       "      <td>NaN</td>\n",
       "      <td>NaN</td>\n",
       "      <td>NaN</td>\n",
       "      <td>NaN</td>\n",
       "      <td>NaN</td>\n",
       "      <td>NaN</td>\n",
       "      <td>NaN</td>\n",
       "      <td>NaN</td>\n",
       "      <td>Stair</td>\n",
       "      <td>YES</td>\n",
       "      <td>NaN</td>\n",
       "      <td>YES</td>\n",
       "      <td>FULL</td>\n",
       "      <td>NaN</td>\n",
       "      <td>False</td>\n",
       "      <td>NaN</td>\n",
       "      <td>True</td>\n",
       "      <td>31st St</td>\n",
       "      <td>23rd Ave</td>\n",
       "      <td>NE</td>\n",
       "      <td>40.775025</td>\n",
       "      <td>-73.911891</td>\n",
       "    </tr>\n",
       "    <tr>\n",
       "      <th>3</th>\n",
       "      <td>BMT</td>\n",
       "      <td>Astoria</td>\n",
       "      <td>Ditmars Blvd</td>\n",
       "      <td>40.775036</td>\n",
       "      <td>-73.912034</td>\n",
       "      <td>N</td>\n",
       "      <td>Q</td>\n",
       "      <td>NaN</td>\n",
       "      <td>NaN</td>\n",
       "      <td>NaN</td>\n",
       "      <td>NaN</td>\n",
       "      <td>NaN</td>\n",
       "      <td>NaN</td>\n",
       "      <td>NaN</td>\n",
       "      <td>NaN</td>\n",
       "      <td>NaN</td>\n",
       "      <td>Stair</td>\n",
       "      <td>YES</td>\n",
       "      <td>NaN</td>\n",
       "      <td>YES</td>\n",
       "      <td>FULL</td>\n",
       "      <td>NaN</td>\n",
       "      <td>False</td>\n",
       "      <td>NaN</td>\n",
       "      <td>True</td>\n",
       "      <td>31st St</td>\n",
       "      <td>23rd Ave</td>\n",
       "      <td>NW</td>\n",
       "      <td>40.774938</td>\n",
       "      <td>-73.912337</td>\n",
       "    </tr>\n",
       "    <tr>\n",
       "      <th>4</th>\n",
       "      <td>BMT</td>\n",
       "      <td>Astoria</td>\n",
       "      <td>Astoria Blvd-Hoyt Av</td>\n",
       "      <td>40.770258</td>\n",
       "      <td>-73.917843</td>\n",
       "      <td>N</td>\n",
       "      <td>Q</td>\n",
       "      <td>NaN</td>\n",
       "      <td>NaN</td>\n",
       "      <td>NaN</td>\n",
       "      <td>NaN</td>\n",
       "      <td>NaN</td>\n",
       "      <td>NaN</td>\n",
       "      <td>NaN</td>\n",
       "      <td>NaN</td>\n",
       "      <td>NaN</td>\n",
       "      <td>Stair</td>\n",
       "      <td>YES</td>\n",
       "      <td>NaN</td>\n",
       "      <td>YES</td>\n",
       "      <td>FULL</td>\n",
       "      <td>NaN</td>\n",
       "      <td>False</td>\n",
       "      <td>NaN</td>\n",
       "      <td>True</td>\n",
       "      <td>31st St</td>\n",
       "      <td>Hoyt Ave South</td>\n",
       "      <td>SW</td>\n",
       "      <td>40.770313</td>\n",
       "      <td>-73.917978</td>\n",
       "    </tr>\n",
       "  </tbody>\n",
       "</table>\n",
       "</div>"
      ],
      "text/plain": [
       "  Division     Line          Station_Name  Station_Latitude  \\\n",
       "0      BMT  Astoria          Ditmars Blvd         40.775036   \n",
       "1      BMT  Astoria          Ditmars Blvd         40.775036   \n",
       "2      BMT  Astoria          Ditmars Blvd         40.775036   \n",
       "3      BMT  Astoria          Ditmars Blvd         40.775036   \n",
       "4      BMT  Astoria  Astoria Blvd-Hoyt Av         40.770258   \n",
       "\n",
       "   Station_Longitude Route_1 Route_2 Route_3 Route_4 Route_5 Route_6 Route_7  \\\n",
       "0         -73.912034       N       Q     NaN     NaN     NaN     NaN     NaN   \n",
       "1         -73.912034       N       Q     NaN     NaN     NaN     NaN     NaN   \n",
       "2         -73.912034       N       Q     NaN     NaN     NaN     NaN     NaN   \n",
       "3         -73.912034       N       Q     NaN     NaN     NaN     NaN     NaN   \n",
       "4         -73.917843       N       Q     NaN     NaN     NaN     NaN     NaN   \n",
       "\n",
       "   Route_8  Route_9  Route_10  Route_11 Entrance_Type Entry Exit_Only Vending  \\\n",
       "0      NaN      NaN       NaN       NaN         Stair   YES       NaN     YES   \n",
       "1      NaN      NaN       NaN       NaN         Stair   YES       NaN     YES   \n",
       "2      NaN      NaN       NaN       NaN         Stair   YES       NaN     YES   \n",
       "3      NaN      NaN       NaN       NaN         Stair   YES       NaN     YES   \n",
       "4      NaN      NaN       NaN       NaN         Stair   YES       NaN     YES   \n",
       "\n",
       "  Staffing Staff_Hours    ADA ADA_Notes  Free_Crossover North_South_Street  \\\n",
       "0     FULL         NaN  False       NaN            True            31st St   \n",
       "1     FULL         NaN  False       NaN            True            31st St   \n",
       "2     FULL         NaN  False       NaN            True            31st St   \n",
       "3     FULL         NaN  False       NaN            True            31st St   \n",
       "4     FULL         NaN  False       NaN            True            31st St   \n",
       "\n",
       "  East_West_Street Corner   Latitude  Longitude  \n",
       "0         23rd Ave     NW  40.775149 -73.912074  \n",
       "1         23rd Ave     NE  40.774810 -73.912151  \n",
       "2         23rd Ave     NE  40.775025 -73.911891  \n",
       "3         23rd Ave     NW  40.774938 -73.912337  \n",
       "4   Hoyt Ave South     SW  40.770313 -73.917978  "
      ]
     },
     "execution_count": 35,
     "metadata": {},
     "output_type": "execute_result"
    }
   ],
   "source": [
    "location_data.head()"
   ]
  },
  {
   "cell_type": "code",
   "execution_count": 44,
   "metadata": {
    "collapsed": true
   },
   "outputs": [],
   "source": []
  },
  {
   "cell_type": "code",
   "execution_count": null,
   "metadata": {
    "collapsed": true
   },
   "outputs": [],
   "source": []
  },
  {
   "cell_type": "code",
   "execution_count": null,
   "metadata": {
    "collapsed": true
   },
   "outputs": [],
   "source": []
  }
 ],
 "metadata": {
  "kernelspec": {
   "display_name": "Python 3",
   "language": "python",
   "name": "python3"
  },
  "language_info": {
   "codemirror_mode": {
    "name": "ipython",
    "version": 3
   },
   "file_extension": ".py",
   "mimetype": "text/x-python",
   "name": "python",
   "nbconvert_exporter": "python",
   "pygments_lexer": "ipython3",
   "version": "3.6.1"
  }
 },
 "nbformat": 4,
 "nbformat_minor": 2
}
