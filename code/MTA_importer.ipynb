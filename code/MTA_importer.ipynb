{
 "cells": [
  {
   "cell_type": "markdown",
   "metadata": {},
   "source": [
    "**MTA Importer**\n",
    "\n",
    "This module downloads the data from the MTA website between two specified dates.\n",
    "Each individual text file which lies between the inputted dates is downloaded and combined into one data frame.\n",
    "It is possible at the end to save the dataframe to csv.\n",
    "\n",
    "This is just for showing and testing the functions, the **main script is located in mta_importer.py**"
   ]
  },
  {
   "cell_type": "markdown",
   "metadata": {},
   "source": [
    "Below is the mta_importer function."
   ]
  },
  {
   "cell_type": "code",
   "execution_count": 12,
   "metadata": {},
   "outputs": [],
   "source": [
    "import csv\n",
    "import pandas as pd\n",
    "from bs4 import *\n",
    "import urllib\n",
    "import re\n"
   ]
  },
  {
   "cell_type": "code",
   "execution_count": 4,
   "metadata": {
    "collapsed": true
   },
   "outputs": [],
   "source": [
    "#Find all the data files on MTA website\n",
    "def mta_updater():\n",
    "    prefix='http://web.mta.info/developers/'\n",
    "    html='http://web.mta.info/developers/turnstile.html'\n",
    "    webv=urllib.request.urlopen(html)\n",
    "    soup=BeautifulSoup(webv,\"lxml\")\n",
    "    tags = soup('a')\n",
    "    linkslist=[]\n",
    "    for tag in tags:\n",
    "        h=tag.get('href',None)\n",
    "        if h is not None:\n",
    "            if h.startswith('data'):\n",
    "                dates=re.findall('.[_]([0-9]+)',h)[0]\n",
    "                linkslist.append((int(dates),prefix+h))\n",
    "    return linkslist"
   ]
  },
  {
   "cell_type": "code",
   "execution_count": 5,
   "metadata": {},
   "outputs": [
    {
     "name": "stdout",
     "output_type": "stream",
     "text": [
      "[(170624, 'http://web.mta.info/developers/data/nyct/turnstile/turnstile_170624.txt'), (170617, 'http://web.mta.info/developers/data/nyct/turnstile/turnstile_170617.txt'), (170610, 'http://web.mta.info/developers/data/nyct/turnstile/turnstile_170610.txt'), (170603, 'http://web.mta.info/developers/data/nyct/turnstile/turnstile_170603.txt'), (170527, 'http://web.mta.info/developers/data/nyct/turnstile/turnstile_170527.txt')]\n"
     ]
    }
   ],
   "source": [
    "links=mta_updater()\n",
    "print (links[:5])"
   ]
  },
  {
   "cell_type": "markdown",
   "metadata": {},
   "source": [
    ">This returns the index position for the dates."
   ]
  },
  {
   "cell_type": "code",
   "execution_count": 7,
   "metadata": {
    "collapsed": true
   },
   "outputs": [],
   "source": [
    "#Return the index of the files for the start and end dates\n",
    "def mta_importer(ds,de,links):\n",
    "    start=int(ds[-2:]+ds[0:2]+ds[3:5])\n",
    "    end=int(de[-2:]+de[0:2]+de[3:5])\n",
    "    i=0\n",
    "    for date_end in links:\n",
    "        if end >= date_end[0]+7:\n",
    "            start_ind=i\n",
    "            d_e=date_end[0]\n",
    "            break\n",
    "        else:\n",
    "            i=i+1\n",
    "    for date_start in links[start_ind:]:\n",
    "        if start >= date_start[0]:\n",
    "            end_ind=i\n",
    "            d_s=date_start[0]\n",
    "            break\n",
    "        else:\n",
    "            i+=1\n",
    "    print ('Date Range: %s to %s' % (d_s,d_e))\n",
    "    return ([start_ind,end_ind])"
   ]
  },
  {
   "cell_type": "code",
   "execution_count": null,
   "metadata": {},
   "outputs": [],
   "source": [
    "ds='06-17-17'\n",
    "de='06-30-17'\n",
    "sel=mta_importer(ds,de,links)\n",
    "print (sel)"
   ]
  },
  {
   "cell_type": "markdown",
   "metadata": {},
   "source": [
    ">This is the main function returning a dataframe of the csv files that request the dates.\n",
    ">This currently has fixed dates, not to mess up on Jupyter notebook."
   ]
  },
  {
   "cell_type": "code",
   "execution_count": 26,
   "metadata": {
    "collapsed": true
   },
   "outputs": [],
   "source": [
    "def mta_selector():\n",
    "    #Define date period\n",
    "    ds='06-17-17' #I have fixed the values just for usability in jupyter notebooks\n",
    "    de='06-30-17' # Fixed\n",
    "    #Run mta_updater which returns an updated list of links from MTA website\n",
    "    links=mta_updater()\n",
    "    sel=mta_importer(ds,de,links)\n",
    "    df_list=[]\n",
    "    clicks=0\n",
    "    for url in links[sel[0]:sel[1]+1]:\n",
    "        df_list.append(pd.read_csv(url[1],header=0))\n",
    "        clicks+=1\n",
    "        print ('%d/%d completed' % (clicks,sel[1]-sel[0]))\n",
    "\n",
    "    #df_list=[(pd.read_csv(url[1],header=0),print() for url in links[sel[0]:sel[1]+1]]\n",
    "    df=pd.concat(df_list,ignore_index=True)\n",
    "\n",
    "    #Write to csv file\n",
    "    csv_q=input('Do you want to write to csv (y/n): ')\n",
    "\n",
    "    if csv_q[0]=='y' or csv_q[0]=='Y':\n",
    "        name=input('CSV file name: ')\n",
    "        df.to_csv(name, sep=',')\n",
    "\n",
    "    return df"
   ]
  },
  {
   "cell_type": "code",
   "execution_count": 27,
   "metadata": {},
   "outputs": [
    {
     "name": "stdout",
     "output_type": "stream",
     "text": [
      "Date Range: 170617 to 170617\n",
      "1/0 completed\n",
      "Do you want to write to csv (y/n): n\n"
     ]
    }
   ],
   "source": [
    "qq=mta_selector() #This returns the datafram from a specified dates"
   ]
  },
  {
   "cell_type": "code",
   "execution_count": 24,
   "metadata": {},
   "outputs": [
    {
     "data": {
      "text/html": [
       "<div>\n",
       "<style>\n",
       "    .dataframe thead tr:only-child th {\n",
       "        text-align: right;\n",
       "    }\n",
       "\n",
       "    .dataframe thead th {\n",
       "        text-align: left;\n",
       "    }\n",
       "\n",
       "    .dataframe tbody tr th {\n",
       "        vertical-align: top;\n",
       "    }\n",
       "</style>\n",
       "<table border=\"1\" class=\"dataframe\">\n",
       "  <thead>\n",
       "    <tr style=\"text-align: right;\">\n",
       "      <th></th>\n",
       "      <th>C/A</th>\n",
       "      <th>UNIT</th>\n",
       "      <th>SCP</th>\n",
       "      <th>STATION</th>\n",
       "      <th>LINENAME</th>\n",
       "      <th>DIVISION</th>\n",
       "      <th>DATE</th>\n",
       "      <th>TIME</th>\n",
       "      <th>DESC</th>\n",
       "      <th>ENTRIES</th>\n",
       "      <th>EXITS</th>\n",
       "    </tr>\n",
       "  </thead>\n",
       "  <tbody>\n",
       "    <tr>\n",
       "      <th>0</th>\n",
       "      <td>A002</td>\n",
       "      <td>R051</td>\n",
       "      <td>02-00-00</td>\n",
       "      <td>59 ST</td>\n",
       "      <td>NQR456W</td>\n",
       "      <td>BMT</td>\n",
       "      <td>06/10/2017</td>\n",
       "      <td>00:00:00</td>\n",
       "      <td>REGULAR</td>\n",
       "      <td>6215258</td>\n",
       "      <td>2104297</td>\n",
       "    </tr>\n",
       "    <tr>\n",
       "      <th>1</th>\n",
       "      <td>A002</td>\n",
       "      <td>R051</td>\n",
       "      <td>02-00-00</td>\n",
       "      <td>59 ST</td>\n",
       "      <td>NQR456W</td>\n",
       "      <td>BMT</td>\n",
       "      <td>06/10/2017</td>\n",
       "      <td>04:00:00</td>\n",
       "      <td>REGULAR</td>\n",
       "      <td>6215284</td>\n",
       "      <td>2104303</td>\n",
       "    </tr>\n",
       "    <tr>\n",
       "      <th>2</th>\n",
       "      <td>A002</td>\n",
       "      <td>R051</td>\n",
       "      <td>02-00-00</td>\n",
       "      <td>59 ST</td>\n",
       "      <td>NQR456W</td>\n",
       "      <td>BMT</td>\n",
       "      <td>06/10/2017</td>\n",
       "      <td>08:00:00</td>\n",
       "      <td>REGULAR</td>\n",
       "      <td>6215318</td>\n",
       "      <td>2104337</td>\n",
       "    </tr>\n",
       "    <tr>\n",
       "      <th>3</th>\n",
       "      <td>A002</td>\n",
       "      <td>R051</td>\n",
       "      <td>02-00-00</td>\n",
       "      <td>59 ST</td>\n",
       "      <td>NQR456W</td>\n",
       "      <td>BMT</td>\n",
       "      <td>06/10/2017</td>\n",
       "      <td>12:00:00</td>\n",
       "      <td>REGULAR</td>\n",
       "      <td>6215475</td>\n",
       "      <td>2104417</td>\n",
       "    </tr>\n",
       "    <tr>\n",
       "      <th>4</th>\n",
       "      <td>A002</td>\n",
       "      <td>R051</td>\n",
       "      <td>02-00-00</td>\n",
       "      <td>59 ST</td>\n",
       "      <td>NQR456W</td>\n",
       "      <td>BMT</td>\n",
       "      <td>06/10/2017</td>\n",
       "      <td>16:00:00</td>\n",
       "      <td>REGULAR</td>\n",
       "      <td>6215841</td>\n",
       "      <td>2104465</td>\n",
       "    </tr>\n",
       "  </tbody>\n",
       "</table>\n",
       "</div>"
      ],
      "text/plain": [
       "    C/A  UNIT       SCP STATION LINENAME DIVISION        DATE      TIME  \\\n",
       "0  A002  R051  02-00-00   59 ST  NQR456W      BMT  06/10/2017  00:00:00   \n",
       "1  A002  R051  02-00-00   59 ST  NQR456W      BMT  06/10/2017  04:00:00   \n",
       "2  A002  R051  02-00-00   59 ST  NQR456W      BMT  06/10/2017  08:00:00   \n",
       "3  A002  R051  02-00-00   59 ST  NQR456W      BMT  06/10/2017  12:00:00   \n",
       "4  A002  R051  02-00-00   59 ST  NQR456W      BMT  06/10/2017  16:00:00   \n",
       "\n",
       "      DESC  ENTRIES  \\\n",
       "0  REGULAR  6215258   \n",
       "1  REGULAR  6215284   \n",
       "2  REGULAR  6215318   \n",
       "3  REGULAR  6215475   \n",
       "4  REGULAR  6215841   \n",
       "\n",
       "   EXITS                                                                 \n",
       "0                                            2104297                     \n",
       "1                                            2104303                     \n",
       "2                                            2104337                     \n",
       "3                                            2104417                     \n",
       "4                                            2104465                     "
      ]
     },
     "execution_count": 24,
     "metadata": {},
     "output_type": "execute_result"
    }
   ],
   "source": [
    "qq.head()"
   ]
  }
 ],
 "metadata": {
  "kernelspec": {
   "display_name": "Python 3",
   "language": "python",
   "name": "python3"
  },
  "language_info": {
   "codemirror_mode": {
    "name": "ipython",
    "version": 3
   },
   "file_extension": ".py",
   "mimetype": "text/x-python",
   "name": "python",
   "nbconvert_exporter": "python",
   "pygments_lexer": "ipython3",
   "version": "3.6.1"
  }
 },
 "nbformat": 4,
 "nbformat_minor": 2
}
