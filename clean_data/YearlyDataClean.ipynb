{
 "cells": [
  {
   "cell_type": "code",
   "execution_count": 1,
   "metadata": {},
   "outputs": [
    {
     "name": "stderr",
     "output_type": "stream",
     "text": [
      "/anaconda/envs/py35/lib/python3.5/site-packages/IPython/html.py:14: ShimWarning: The `IPython.html` package has been deprecated since IPython 4.0. You should import from `notebook` instead. `IPython.html.widgets` has moved to `ipywidgets`.\n",
      "  \"`IPython.html.widgets` has moved to `ipywidgets`.\", ShimWarning)\n"
     ]
    }
   ],
   "source": [
    "## Setup\n",
    "import pandas as pd\n",
    "import numpy as np\n",
    "from bs4 import BeautifulSoup\n",
    "from urllib.request import urlopen\n",
    "import re\n",
    "import matplotlib.pyplot as plt\n",
    "import seaborn as sns\n",
    "\n",
    "%matplotlib inline"
   ]
  },
  {
   "cell_type": "code",
   "execution_count": 2,
   "metadata": {
    "collapsed": true
   },
   "outputs": [],
   "source": [
    "pd.set_option('display.max_columns', None)\n",
    "pd.set_option('display.max_rows', 25)\n",
    "pd.options.display.float_format = '{:,.2f}'.format\n",
    "plt.rcParams['axes.formatter.useoffset'] = False\n",
    "#pd.set_option('display.precision',3)"
   ]
  },
  {
   "cell_type": "code",
   "execution_count": null,
   "metadata": {
    "collapsed": true
   },
   "outputs": [],
   "source": []
  },
  {
   "cell_type": "code",
   "execution_count": 3,
   "metadata": {
    "collapsed": true
   },
   "outputs": [],
   "source": [
    "## helper functions\n",
    "\n",
    "def get_links(url, link_tag):\n",
    "    try:\n",
    "        html = urlopen(url)\n",
    "    except:\n",
    "        print('Error: use a valid url.')\n",
    "\n",
    "    soup = BeautifulSoup(html, 'html5lib')\n",
    "\n",
    "\n",
    "    # Get all the links by using the findAll method with the link_tag as input.\n",
    "    all_links = soup.findAll(link_tag)\n",
    "\n",
    "    return all_links\n",
    "\n",
    "def clean(all_links):\n",
    "    # Cleanup links by only leaving the actual txt file names.\n",
    "    clean_links = []\n",
    "    for link in all_links:\n",
    "        potential_link = link.get('href')\n",
    "        file_tag = re.search(r\"^data/.+\\.txt$\", str(potential_link))\n",
    "        if file_tag:\n",
    "            comp_link = re.sub(r\"data\",'http://web.mta.info/developers/data',potential_link)\n",
    "            clean_links.append(comp_link)\n",
    "\n",
    "    return clean_links"
   ]
  },
  {
   "cell_type": "code",
   "execution_count": 4,
   "metadata": {},
   "outputs": [],
   "source": [
    "## import data from June 2016 to June 2017\n",
    "\n",
    "# all_links = get_links('http://web.mta.info/developers/turnstile.html','a')\n",
    "# clean_links = clean(all_links)\n",
    "\n",
    "# counter = 0\n",
    "# for file_name in clean_links[:53]:\n",
    "#     if file_name == clean_links[0]:\n",
    "#         df = pd.read_csv(file_name)\n",
    "#     else:\n",
    "#         df = df.append(pd.read_csv(file_name))\n",
    "#     counter += 1\n",
    "#     print('finished reading '+ str(counter) + ' weeks of data')\n",
    "\n",
    "# cols = ['control_area', 'unit', 'scp', 'station', 'linename',\\\n",
    "#         'division', 'date', 'time', 'desc','cum_entries', 'cum_exits']\n",
    "\n",
    "# df.columns = cols\n",
    "# df = df.reset_index(drop=True)\n",
    "\n",
    "## save raw data to csv to avoid downloading again\n",
    "\n",
    "#df.to_csv('raw_data.csv')\n",
    "df = pd.DataFrame.from_csv('raw_data.csv') \n"
   ]
  },
  {
   "cell_type": "code",
   "execution_count": 5,
   "metadata": {},
   "outputs": [
    {
     "data": {
      "text/html": [
       "<div>\n",
       "<style>\n",
       "    .dataframe thead tr:only-child th {\n",
       "        text-align: right;\n",
       "    }\n",
       "\n",
       "    .dataframe thead th {\n",
       "        text-align: left;\n",
       "    }\n",
       "\n",
       "    .dataframe tbody tr th {\n",
       "        vertical-align: top;\n",
       "    }\n",
       "</style>\n",
       "<table border=\"1\" class=\"dataframe\">\n",
       "  <thead>\n",
       "    <tr style=\"text-align: right;\">\n",
       "      <th></th>\n",
       "      <th>control_area</th>\n",
       "      <th>unit</th>\n",
       "      <th>scp</th>\n",
       "      <th>station</th>\n",
       "      <th>linename</th>\n",
       "      <th>division</th>\n",
       "      <th>date</th>\n",
       "      <th>time</th>\n",
       "      <th>desc</th>\n",
       "      <th>cum_entries</th>\n",
       "      <th>cum_exits</th>\n",
       "    </tr>\n",
       "  </thead>\n",
       "  <tbody>\n",
       "    <tr>\n",
       "      <th>0</th>\n",
       "      <td>A002</td>\n",
       "      <td>R051</td>\n",
       "      <td>02-00-00</td>\n",
       "      <td>59 ST</td>\n",
       "      <td>NQR456W</td>\n",
       "      <td>BMT</td>\n",
       "      <td>06/17/2017</td>\n",
       "      <td>00:00:00</td>\n",
       "      <td>REGULAR</td>\n",
       "      <td>6224816</td>\n",
       "      <td>2107317</td>\n",
       "    </tr>\n",
       "    <tr>\n",
       "      <th>1</th>\n",
       "      <td>A002</td>\n",
       "      <td>R051</td>\n",
       "      <td>02-00-00</td>\n",
       "      <td>59 ST</td>\n",
       "      <td>NQR456W</td>\n",
       "      <td>BMT</td>\n",
       "      <td>06/17/2017</td>\n",
       "      <td>04:00:00</td>\n",
       "      <td>REGULAR</td>\n",
       "      <td>6224850</td>\n",
       "      <td>2107322</td>\n",
       "    </tr>\n",
       "    <tr>\n",
       "      <th>2</th>\n",
       "      <td>A002</td>\n",
       "      <td>R051</td>\n",
       "      <td>02-00-00</td>\n",
       "      <td>59 ST</td>\n",
       "      <td>NQR456W</td>\n",
       "      <td>BMT</td>\n",
       "      <td>06/17/2017</td>\n",
       "      <td>08:00:00</td>\n",
       "      <td>REGULAR</td>\n",
       "      <td>6224885</td>\n",
       "      <td>2107352</td>\n",
       "    </tr>\n",
       "    <tr>\n",
       "      <th>3</th>\n",
       "      <td>A002</td>\n",
       "      <td>R051</td>\n",
       "      <td>02-00-00</td>\n",
       "      <td>59 ST</td>\n",
       "      <td>NQR456W</td>\n",
       "      <td>BMT</td>\n",
       "      <td>06/17/2017</td>\n",
       "      <td>12:00:00</td>\n",
       "      <td>REGULAR</td>\n",
       "      <td>6225005</td>\n",
       "      <td>2107452</td>\n",
       "    </tr>\n",
       "    <tr>\n",
       "      <th>4</th>\n",
       "      <td>A002</td>\n",
       "      <td>R051</td>\n",
       "      <td>02-00-00</td>\n",
       "      <td>59 ST</td>\n",
       "      <td>NQR456W</td>\n",
       "      <td>BMT</td>\n",
       "      <td>06/17/2017</td>\n",
       "      <td>16:00:00</td>\n",
       "      <td>REGULAR</td>\n",
       "      <td>6225248</td>\n",
       "      <td>2107513</td>\n",
       "    </tr>\n",
       "  </tbody>\n",
       "</table>\n",
       "</div>"
      ],
      "text/plain": [
       "  control_area  unit       scp station linename division        date  \\\n",
       "0         A002  R051  02-00-00   59 ST  NQR456W      BMT  06/17/2017   \n",
       "1         A002  R051  02-00-00   59 ST  NQR456W      BMT  06/17/2017   \n",
       "2         A002  R051  02-00-00   59 ST  NQR456W      BMT  06/17/2017   \n",
       "3         A002  R051  02-00-00   59 ST  NQR456W      BMT  06/17/2017   \n",
       "4         A002  R051  02-00-00   59 ST  NQR456W      BMT  06/17/2017   \n",
       "\n",
       "       time     desc  cum_entries  cum_exits  \n",
       "0  00:00:00  REGULAR      6224816    2107317  \n",
       "1  04:00:00  REGULAR      6224850    2107322  \n",
       "2  08:00:00  REGULAR      6224885    2107352  \n",
       "3  12:00:00  REGULAR      6225005    2107452  \n",
       "4  16:00:00  REGULAR      6225248    2107513  "
      ]
     },
     "execution_count": 5,
     "metadata": {},
     "output_type": "execute_result"
    }
   ],
   "source": [
    "df.head()"
   ]
  },
  {
   "cell_type": "code",
   "execution_count": 6,
   "metadata": {},
   "outputs": [
    {
     "name": "stdout",
     "output_type": "stream",
     "text": [
      "<class 'pandas.core.frame.DataFrame'>\n",
      "Int64Index: 10313053 entries, 0 to 10313052\n",
      "Data columns (total 11 columns):\n",
      "control_area    object\n",
      "unit            object\n",
      "scp             object\n",
      "station         object\n",
      "linename        object\n",
      "division        object\n",
      "date            object\n",
      "time            object\n",
      "desc            object\n",
      "cum_entries     int64\n",
      "cum_exits       int64\n",
      "dtypes: int64(2), object(9)\n",
      "memory usage: 944.2+ MB\n"
     ]
    }
   ],
   "source": [
    "df.info()"
   ]
  },
  {
   "cell_type": "code",
   "execution_count": 7,
   "metadata": {},
   "outputs": [],
   "source": [
    "## understand data structure"
   ]
  },
  {
   "cell_type": "code",
   "execution_count": 8,
   "metadata": {},
   "outputs": [
    {
     "name": "stdout",
     "output_type": "stream",
     "text": [
      "REGULAR       10269875\n",
      "RECOVR AUD       43178\n",
      "Name: desc, dtype: int64\n",
      "IRT    3777975\n",
      "IND    3679462\n",
      "BMT    2172932\n",
      "PTH     585976\n",
      "SRT      74535\n",
      "RIT      22173\n",
      "Name: division, dtype: int64\n"
     ]
    }
   ],
   "source": [
    "# check contents of variables, remove recovered audit data\n",
    "print(df.desc.value_counts())\n",
    "print(df.division.value_counts())\n",
    "df = df[df.desc != 'RECOVR AUD']\n",
    "\n"
   ]
  },
  {
   "cell_type": "code",
   "execution_count": 9,
   "metadata": {},
   "outputs": [
    {
     "name": "stdout",
     "output_type": "stream",
     "text": [
      "(4801, 3)\n",
      "(4246, 2)\n",
      "(4801, 4)\n"
     ]
    }
   ],
   "source": [
    "# check turnstile's smallest set of uniquely identifiable variables\n",
    "# result: a tunstile is unique by control area, scp and station\n",
    "\n",
    "print(df[['control_area','scp','station']].drop_duplicates().shape)\n",
    "print(df[['scp','station']].drop_duplicates().shape)\n",
    "print(df[['control_area','scp','station','unit']].drop_duplicates().shape)\n"
   ]
  },
  {
   "cell_type": "code",
   "execution_count": 10,
   "metadata": {},
   "outputs": [
    {
     "data": {
      "text/plain": [
       "count                10269875\n",
       "unique                 608678\n",
       "top       2017-03-23 20:00:00\n",
       "freq                     2420\n",
       "first     2016-06-18 00:00:00\n",
       "last      2017-06-23 23:59:58\n",
       "Name: parsed_datetime, dtype: object"
      ]
     },
     "execution_count": 10,
     "metadata": {},
     "output_type": "execute_result"
    }
   ],
   "source": [
    "# add datetime variable\n",
    "df['parsed_datetime'] = pd.to_datetime(df['date'] + ' ' + df['time'], format = '%m/%d/%Y %H:%M:%S')\n",
    "df.parsed_datetime.describe()"
   ]
  },
  {
   "cell_type": "code",
   "execution_count": 11,
   "metadata": {},
   "outputs": [
    {
     "data": {
      "text/plain": [
       "4801"
      ]
     },
     "execution_count": 11,
     "metadata": {},
     "output_type": "execute_result"
    }
   ],
   "source": [
    "df.sort_values(['control_area','scp','station','parsed_datetime'])\\\n",
    ".groupby(['control_area','scp', 'station'])['cum_entries']\\\n",
    ".shift(1).isnull().sum()"
   ]
  },
  {
   "cell_type": "code",
   "execution_count": 12,
   "metadata": {},
   "outputs": [
    {
     "data": {
      "text/html": [
       "<div>\n",
       "<style>\n",
       "    .dataframe thead tr:only-child th {\n",
       "        text-align: right;\n",
       "    }\n",
       "\n",
       "    .dataframe thead th {\n",
       "        text-align: left;\n",
       "    }\n",
       "\n",
       "    .dataframe tbody tr th {\n",
       "        vertical-align: top;\n",
       "    }\n",
       "</style>\n",
       "<table border=\"1\" class=\"dataframe\">\n",
       "  <thead>\n",
       "    <tr style=\"text-align: right;\">\n",
       "      <th></th>\n",
       "      <th>control_area</th>\n",
       "      <th>unit</th>\n",
       "      <th>scp</th>\n",
       "      <th>station</th>\n",
       "      <th>linename</th>\n",
       "      <th>division</th>\n",
       "      <th>date</th>\n",
       "      <th>time</th>\n",
       "      <th>desc</th>\n",
       "      <th>cum_entries</th>\n",
       "      <th>cum_exits</th>\n",
       "      <th>parsed_datetime</th>\n",
       "      <th>shift_cum_entries</th>\n",
       "      <th>shift_cum_exits</th>\n",
       "      <th>shift_datetime</th>\n",
       "      <th>entries</th>\n",
       "      <th>exits</th>\n",
       "    </tr>\n",
       "  </thead>\n",
       "  <tbody>\n",
       "    <tr>\n",
       "      <th>0</th>\n",
       "      <td>A002</td>\n",
       "      <td>R051</td>\n",
       "      <td>02-00-00</td>\n",
       "      <td>59 ST</td>\n",
       "      <td>NQR456</td>\n",
       "      <td>BMT</td>\n",
       "      <td>06/18/2016</td>\n",
       "      <td>00:00:00</td>\n",
       "      <td>REGULAR</td>\n",
       "      <td>5704958</td>\n",
       "      <td>1934814</td>\n",
       "      <td>2016-06-18 00:00:00</td>\n",
       "      <td>nan</td>\n",
       "      <td>nan</td>\n",
       "      <td>NaT</td>\n",
       "      <td>nan</td>\n",
       "      <td>nan</td>\n",
       "    </tr>\n",
       "    <tr>\n",
       "      <th>1</th>\n",
       "      <td>A002</td>\n",
       "      <td>R051</td>\n",
       "      <td>02-00-00</td>\n",
       "      <td>59 ST</td>\n",
       "      <td>NQR456</td>\n",
       "      <td>BMT</td>\n",
       "      <td>06/18/2016</td>\n",
       "      <td>04:00:00</td>\n",
       "      <td>REGULAR</td>\n",
       "      <td>5704958</td>\n",
       "      <td>1934829</td>\n",
       "      <td>2016-06-18 04:00:00</td>\n",
       "      <td>5,704,958.00</td>\n",
       "      <td>1,934,814.00</td>\n",
       "      <td>2016-06-18 00:00:00</td>\n",
       "      <td>0.00</td>\n",
       "      <td>15.00</td>\n",
       "    </tr>\n",
       "    <tr>\n",
       "      <th>2</th>\n",
       "      <td>A002</td>\n",
       "      <td>R051</td>\n",
       "      <td>02-00-00</td>\n",
       "      <td>59 ST</td>\n",
       "      <td>NQR456</td>\n",
       "      <td>BMT</td>\n",
       "      <td>06/18/2016</td>\n",
       "      <td>08:00:00</td>\n",
       "      <td>REGULAR</td>\n",
       "      <td>5704958</td>\n",
       "      <td>1934886</td>\n",
       "      <td>2016-06-18 08:00:00</td>\n",
       "      <td>5,704,958.00</td>\n",
       "      <td>1,934,829.00</td>\n",
       "      <td>2016-06-18 04:00:00</td>\n",
       "      <td>0.00</td>\n",
       "      <td>57.00</td>\n",
       "    </tr>\n",
       "    <tr>\n",
       "      <th>3</th>\n",
       "      <td>A002</td>\n",
       "      <td>R051</td>\n",
       "      <td>02-00-00</td>\n",
       "      <td>59 ST</td>\n",
       "      <td>NQR456</td>\n",
       "      <td>BMT</td>\n",
       "      <td>06/18/2016</td>\n",
       "      <td>12:00:00</td>\n",
       "      <td>REGULAR</td>\n",
       "      <td>5704958</td>\n",
       "      <td>1934993</td>\n",
       "      <td>2016-06-18 12:00:00</td>\n",
       "      <td>5,704,958.00</td>\n",
       "      <td>1,934,886.00</td>\n",
       "      <td>2016-06-18 08:00:00</td>\n",
       "      <td>0.00</td>\n",
       "      <td>107.00</td>\n",
       "    </tr>\n",
       "    <tr>\n",
       "      <th>4</th>\n",
       "      <td>A002</td>\n",
       "      <td>R051</td>\n",
       "      <td>02-00-00</td>\n",
       "      <td>59 ST</td>\n",
       "      <td>NQR456</td>\n",
       "      <td>BMT</td>\n",
       "      <td>06/18/2016</td>\n",
       "      <td>16:00:00</td>\n",
       "      <td>REGULAR</td>\n",
       "      <td>5704958</td>\n",
       "      <td>1935069</td>\n",
       "      <td>2016-06-18 16:00:00</td>\n",
       "      <td>5,704,958.00</td>\n",
       "      <td>1,934,993.00</td>\n",
       "      <td>2016-06-18 12:00:00</td>\n",
       "      <td>0.00</td>\n",
       "      <td>76.00</td>\n",
       "    </tr>\n",
       "  </tbody>\n",
       "</table>\n",
       "</div>"
      ],
      "text/plain": [
       "  control_area  unit       scp station linename division        date  \\\n",
       "0         A002  R051  02-00-00   59 ST   NQR456      BMT  06/18/2016   \n",
       "1         A002  R051  02-00-00   59 ST   NQR456      BMT  06/18/2016   \n",
       "2         A002  R051  02-00-00   59 ST   NQR456      BMT  06/18/2016   \n",
       "3         A002  R051  02-00-00   59 ST   NQR456      BMT  06/18/2016   \n",
       "4         A002  R051  02-00-00   59 ST   NQR456      BMT  06/18/2016   \n",
       "\n",
       "       time     desc  cum_entries  cum_exits     parsed_datetime  \\\n",
       "0  00:00:00  REGULAR      5704958    1934814 2016-06-18 00:00:00   \n",
       "1  04:00:00  REGULAR      5704958    1934829 2016-06-18 04:00:00   \n",
       "2  08:00:00  REGULAR      5704958    1934886 2016-06-18 08:00:00   \n",
       "3  12:00:00  REGULAR      5704958    1934993 2016-06-18 12:00:00   \n",
       "4  16:00:00  REGULAR      5704958    1935069 2016-06-18 16:00:00   \n",
       "\n",
       "   shift_cum_entries  shift_cum_exits      shift_datetime  entries  exits  \n",
       "0                nan              nan                 NaT      nan    nan  \n",
       "1       5,704,958.00     1,934,814.00 2016-06-18 00:00:00     0.00  15.00  \n",
       "2       5,704,958.00     1,934,829.00 2016-06-18 04:00:00     0.00  57.00  \n",
       "3       5,704,958.00     1,934,886.00 2016-06-18 08:00:00     0.00 107.00  \n",
       "4       5,704,958.00     1,934,993.00 2016-06-18 12:00:00     0.00  76.00  "
      ]
     },
     "execution_count": 12,
     "metadata": {},
     "output_type": "execute_result"
    }
   ],
   "source": [
    "# add shifted data\n",
    "df[['shift_cum_entries','shift_cum_exits', 'shift_datetime']] = \\\n",
    "df.sort_values(['control_area','scp','station','parsed_datetime'])\\\n",
    ".groupby(['control_area','scp', 'station'])[['cum_entries','cum_exits','parsed_datetime']]\\\n",
    ".shift(1)\n",
    "\n",
    "df['entries'] = df['cum_entries'] - df['shift_cum_entries']\n",
    "df['exits'] = df['cum_exits'] - df['shift_cum_exits']\n",
    "df = df.sort_values(['control_area','scp','station','parsed_datetime'])\n",
    "df = df.reset_index(drop=True)\n",
    "df.head()"
   ]
  },
  {
   "cell_type": "code",
   "execution_count": 13,
   "metadata": {},
   "outputs": [
    {
     "data": {
      "text/html": [
       "<div>\n",
       "<style>\n",
       "    .dataframe thead tr:only-child th {\n",
       "        text-align: right;\n",
       "    }\n",
       "\n",
       "    .dataframe thead th {\n",
       "        text-align: left;\n",
       "    }\n",
       "\n",
       "    .dataframe tbody tr th {\n",
       "        vertical-align: top;\n",
       "    }\n",
       "</style>\n",
       "<table border=\"1\" class=\"dataframe\">\n",
       "  <thead>\n",
       "    <tr style=\"text-align: right;\">\n",
       "      <th></th>\n",
       "      <th>cum_entries</th>\n",
       "      <th>cum_exits</th>\n",
       "      <th>shift_cum_entries</th>\n",
       "      <th>shift_cum_exits</th>\n",
       "      <th>entries</th>\n",
       "      <th>exits</th>\n",
       "    </tr>\n",
       "  </thead>\n",
       "  <tbody>\n",
       "    <tr>\n",
       "      <th>count</th>\n",
       "      <td>10,269,875.00</td>\n",
       "      <td>10,269,875.00</td>\n",
       "      <td>10,265,074.00</td>\n",
       "      <td>10,265,074.00</td>\n",
       "      <td>10,265,074.00</td>\n",
       "      <td>10,265,074.00</td>\n",
       "    </tr>\n",
       "    <tr>\n",
       "      <th>mean</th>\n",
       "      <td>36,486,262.85</td>\n",
       "      <td>29,139,137.62</td>\n",
       "      <td>36,485,342.67</td>\n",
       "      <td>29,138,523.68</td>\n",
       "      <td>1,518.65</td>\n",
       "      <td>1,242.69</td>\n",
       "    </tr>\n",
       "    <tr>\n",
       "      <th>std</th>\n",
       "      <td>198,383,992.07</td>\n",
       "      <td>178,412,178.19</td>\n",
       "      <td>198,380,403.78</td>\n",
       "      <td>178,409,702.43</td>\n",
       "      <td>2,718,045.93</td>\n",
       "      <td>2,550,201.08</td>\n",
       "    </tr>\n",
       "    <tr>\n",
       "      <th>min</th>\n",
       "      <td>0.00</td>\n",
       "      <td>0.00</td>\n",
       "      <td>0.00</td>\n",
       "      <td>0.00</td>\n",
       "      <td>-2,147,369,278.00</td>\n",
       "      <td>-1,777,224,262.00</td>\n",
       "    </tr>\n",
       "    <tr>\n",
       "      <th>25%</th>\n",
       "      <td>542,339.00</td>\n",
       "      <td>270,255.00</td>\n",
       "      <td>542,371.25</td>\n",
       "      <td>270,277.00</td>\n",
       "      <td>10.00</td>\n",
       "      <td>8.00</td>\n",
       "    </tr>\n",
       "    <tr>\n",
       "      <th>50%</th>\n",
       "      <td>2,646,117.00</td>\n",
       "      <td>1,517,381.00</td>\n",
       "      <td>2,646,139.50</td>\n",
       "      <td>1,517,416.50</td>\n",
       "      <td>76.00</td>\n",
       "      <td>52.00</td>\n",
       "    </tr>\n",
       "    <tr>\n",
       "      <th>75%</th>\n",
       "      <td>6,682,800.00</td>\n",
       "      <td>4,728,312.50</td>\n",
       "      <td>6,682,787.75</td>\n",
       "      <td>4,728,330.00</td>\n",
       "      <td>245.00</td>\n",
       "      <td>165.00</td>\n",
       "    </tr>\n",
       "    <tr>\n",
       "      <th>max</th>\n",
       "      <td>2,147,479,647.00</td>\n",
       "      <td>2,087,386,948.00</td>\n",
       "      <td>2,147,479,647.00</td>\n",
       "      <td>2,087,386,948.00</td>\n",
       "      <td>2,122,192,829.00</td>\n",
       "      <td>2,038,812,708.00</td>\n",
       "    </tr>\n",
       "  </tbody>\n",
       "</table>\n",
       "</div>"
      ],
      "text/plain": [
       "           cum_entries        cum_exits  shift_cum_entries  shift_cum_exits  \\\n",
       "count    10,269,875.00    10,269,875.00      10,265,074.00    10,265,074.00   \n",
       "mean     36,486,262.85    29,139,137.62      36,485,342.67    29,138,523.68   \n",
       "std     198,383,992.07   178,412,178.19     198,380,403.78   178,409,702.43   \n",
       "min               0.00             0.00               0.00             0.00   \n",
       "25%         542,339.00       270,255.00         542,371.25       270,277.00   \n",
       "50%       2,646,117.00     1,517,381.00       2,646,139.50     1,517,416.50   \n",
       "75%       6,682,800.00     4,728,312.50       6,682,787.75     4,728,330.00   \n",
       "max   2,147,479,647.00 2,087,386,948.00   2,147,479,647.00 2,087,386,948.00   \n",
       "\n",
       "                entries             exits  \n",
       "count     10,265,074.00     10,265,074.00  \n",
       "mean           1,518.65          1,242.69  \n",
       "std        2,718,045.93      2,550,201.08  \n",
       "min   -2,147,369,278.00 -1,777,224,262.00  \n",
       "25%               10.00              8.00  \n",
       "50%               76.00             52.00  \n",
       "75%              245.00            165.00  \n",
       "max    2,122,192,829.00  2,038,812,708.00  "
      ]
     },
     "execution_count": 13,
     "metadata": {},
     "output_type": "execute_result"
    }
   ],
   "source": [
    "df.describe()"
   ]
  },
  {
   "cell_type": "code",
   "execution_count": 14,
   "metadata": {},
   "outputs": [
    {
     "name": "stdout",
     "output_type": "stream",
     "text": [
      "(array([       0,     2186,     4384, ..., 10263164, 10265402, 10267639]),)\n"
     ]
    }
   ],
   "source": [
    "# make sure the shift is done right\n",
    "print(df.shift_cum_entries.isnull().nonzero())\n",
    "\n",
    "turnstile_number = df[['control_area','scp','station']].drop_duplicates().shape[0]\n",
    "assert turnstile_number == df.shift_cum_entries.isnull().sum()\n",
    "assert turnstile_number == df.shift_cum_exits.isnull().sum()\n",
    "assert turnstile_number == df.shift_datetime.isnull().sum()"
   ]
  },
  {
   "cell_type": "code",
   "execution_count": 15,
   "metadata": {
    "collapsed": true
   },
   "outputs": [],
   "source": [
    "## Sanity check on missing dates\n",
    "\n",
    "df['parsed_date'] = df.parsed_datetime.map(lambda x: x.date())\n",
    "\n",
    "assert df.parsed_date.unique().shape[0] == (df.parsed_datetime.max().date() - df.parsed_datetime.min().date()).days +1"
   ]
  },
  {
   "cell_type": "code",
   "execution_count": 16,
   "metadata": {
    "collapsed": true
   },
   "outputs": [],
   "source": [
    "## Sanity check on outliers\n"
   ]
  },
  {
   "cell_type": "code",
   "execution_count": 17,
   "metadata": {},
   "outputs": [
    {
     "name": "stdout",
     "output_type": "stream",
     "text": [
      "percentage of negative entries: 0.744%\n",
      "percentage of zero entries: 14.631%\n",
      "percentage of negative exits: 0.603%\n",
      "percentage of zero entries: 14.345%\n"
     ]
    }
   ],
   "source": [
    "# describe negative/zero values\n",
    "print('percentage of negative entries:', \"{0:.3f}%\".format(df[df.entries < 0].shape[0]/df.shape[0]*100))\n",
    "print('percentage of zero entries:', \"{0:.3f}%\".format(df[df.entries == 0].shape[0]/df.shape[0]*100))\n",
    "print('percentage of negative exits:', \"{0:.3f}%\".format(df[df.exits < 0].shape[0]/df.shape[0]*100))\n",
    "print('percentage of zero entries:', \"{0:.3f}%\".format(df[df.exits == 0].shape[0]/df.shape[0]*100))"
   ]
  },
  {
   "cell_type": "code",
   "execution_count": 18,
   "metadata": {},
   "outputs": [],
   "source": [
    "# process negative numbers as null, since they account for less than 1% of the data\n",
    "df.loc[df.entries < 0,'entries'] = np.nan\n",
    "df.loc[df.exits < 0,'exits'] = np.nan\n"
   ]
  },
  {
   "cell_type": "code",
   "execution_count": 19,
   "metadata": {},
   "outputs": [
    {
     "data": {
      "text/html": [
       "<div>\n",
       "<style>\n",
       "    .dataframe thead tr:only-child th {\n",
       "        text-align: right;\n",
       "    }\n",
       "\n",
       "    .dataframe thead th {\n",
       "        text-align: left;\n",
       "    }\n",
       "\n",
       "    .dataframe tbody tr th {\n",
       "        vertical-align: top;\n",
       "    }\n",
       "</style>\n",
       "<table border=\"1\" class=\"dataframe\">\n",
       "  <thead>\n",
       "    <tr style=\"text-align: right;\">\n",
       "      <th></th>\n",
       "      <th>entries</th>\n",
       "      <th>exits</th>\n",
       "    </tr>\n",
       "  </thead>\n",
       "  <tbody>\n",
       "    <tr>\n",
       "      <th>count</th>\n",
       "      <td>10,188,648.00</td>\n",
       "      <td>10,203,189.00</td>\n",
       "    </tr>\n",
       "    <tr>\n",
       "      <th>mean</th>\n",
       "      <td>4,148.48</td>\n",
       "      <td>3,412.00</td>\n",
       "    </tr>\n",
       "    <tr>\n",
       "      <th>std</th>\n",
       "      <td>2,171,361.98</td>\n",
       "      <td>2,042,769.16</td>\n",
       "    </tr>\n",
       "    <tr>\n",
       "      <th>min</th>\n",
       "      <td>0.00</td>\n",
       "      <td>0.00</td>\n",
       "    </tr>\n",
       "    <tr>\n",
       "      <th>25%</th>\n",
       "      <td>11.00</td>\n",
       "      <td>9.00</td>\n",
       "    </tr>\n",
       "    <tr>\n",
       "      <th>50%</th>\n",
       "      <td>78.00</td>\n",
       "      <td>53.00</td>\n",
       "    </tr>\n",
       "    <tr>\n",
       "      <th>75%</th>\n",
       "      <td>247.00</td>\n",
       "      <td>166.00</td>\n",
       "    </tr>\n",
       "    <tr>\n",
       "      <th>max</th>\n",
       "      <td>2,122,192,829.00</td>\n",
       "      <td>2,038,812,708.00</td>\n",
       "    </tr>\n",
       "  </tbody>\n",
       "</table>\n",
       "</div>"
      ],
      "text/plain": [
       "               entries            exits\n",
       "count    10,188,648.00    10,203,189.00\n",
       "mean          4,148.48         3,412.00\n",
       "std       2,171,361.98     2,042,769.16\n",
       "min               0.00             0.00\n",
       "25%              11.00             9.00\n",
       "50%              78.00            53.00\n",
       "75%             247.00           166.00\n",
       "max   2,122,192,829.00 2,038,812,708.00"
      ]
     },
     "execution_count": 19,
     "metadata": {},
     "output_type": "execute_result"
    }
   ],
   "source": [
    "df[['entries','exits']].describe()"
   ]
  },
  {
   "cell_type": "code",
   "execution_count": 20,
   "metadata": {},
   "outputs": [
    {
     "data": {
      "image/png": "[encoded data removed]",
      "text/plain": [
       "<matplotlib.figure.Figure at 0x179729860>"
      ]
     },
     "metadata": {},
     "output_type": "display_data"
    }
   ],
   "source": [
    "fig, ax = plt.subplots(1, 2, figsize=(20, 10));\n",
    "plt.suptitle('kernel density plot for entries')\n",
    "sns.distplot(df[df.entries.notnull()].entries, ax=ax[0])\n",
    "ax[0].set_xlabel('all entry values')\n",
    "\n",
    "sns.distplot(df[df.entries <12000].entries, ax=ax[1])\n",
    "ax[1].set_xlabel('entry values < 12000')\n",
    "fig.savefig('entry_dist.png')\n"
   ]
  },
  {
   "cell_type": "code",
   "execution_count": 21,
   "metadata": {},
   "outputs": [
    {
     "data": {
      "image/png": "[encoded data removed]",
      "text/plain": [
       "<matplotlib.figure.Figure at 0x1325810b8>"
      ]
     },
     "metadata": {},
     "output_type": "display_data"
    }
   ],
   "source": [
    "fig, ax = plt.subplots(1, 2, figsize=(20, 10));\n",
    "plt.suptitle('kernel density plot for exits')\n",
    "sns.distplot(df[df.exits.notnull()].exits, ax=ax[0])\n",
    "ax[0].set_xlabel('all exits values')\n",
    "\n",
    "sns.distplot(df[df.exits <12000].exits, ax=ax[1])\n",
    "ax[1].set_xlabel('exits values < 12000')\n",
    "fig.savefig('exits_dist.png')"
   ]
  },
  {
   "cell_type": "code",
   "execution_count": 22,
   "metadata": {},
   "outputs": [],
   "source": [
    "# from the graphs, we find that most of the entry/exits values are less than 4000, \n",
    "# we remove outliers by removing any value that is larger than 8000\n",
    "df.loc[df.entries > 8000,'entries'] = np.nan\n",
    "df.loc[df.exits > 8000,'exits'] = np.nan"
   ]
  },
  {
   "cell_type": "code",
   "execution_count": 23,
   "metadata": {},
   "outputs": [
    {
     "name": "stdout",
     "output_type": "stream",
     "text": [
      "From June 2016 to June 2017, the yearly ridership is 1.60 billon\n",
      "Average weekday ridereship is 5.02 millon\n"
     ]
    }
   ],
   "source": [
    "## check data accuracy against MTA public aggregate numbers\n",
    "# MTA reported that in 2016, average weekday subway ridership was 5.7 million, \n",
    "# annual ridership was 1.757 billion\n",
    "\n",
    "df_days = (df.parsed_date.max() - df.parsed_date.min()).days +1\n",
    "\n",
    "# billions of ridership in a year infered from daily average\n",
    "year_ridership = (df.entries.sum()+ df.exits.sum())/df_days*365/10**9/2\n",
    "print('From June 2016 to June 2017, the yearly ridership is ' + \"{0:.2f}\".format(year_ridership) + ' billon')\n",
    "\n",
    "# average weekday ridership (in millons)\n",
    "weekday_ridership = df[df.parsed_date.map(lambda x: x.weekday() in range(5))].groupby(['parsed_date'])['entries','exits'].sum().mean().mean()/10**6\n",
    "print('Average weekday ridereship is ' + \"{0:.2f}\".format(weekday_ridership) + ' millon')\n",
    "\n",
    "# These numbers are a bit smaller than but close to the number reported by MTA, \n",
    "# since the MTA's public number is also questionable on its accuracy, we think\n",
    "# the current outlier pruning rule is a reasonable one."
   ]
  },
  {
   "cell_type": "code",
   "execution_count": 24,
   "metadata": {},
   "outputs": [
    {
     "name": "stdout",
     "output_type": "stream",
     "text": [
      "<class 'pandas.core.frame.DataFrame'>\n",
      "RangeIndex: 10269875 entries, 0 to 10269874\n",
      "Data columns (total 18 columns):\n",
      "control_area         object\n",
      "unit                 object\n",
      "scp                  object\n",
      "station              object\n",
      "linename             object\n",
      "division             object\n",
      "date                 object\n",
      "time                 object\n",
      "desc                 object\n",
      "cum_entries          int64\n",
      "cum_exits            int64\n",
      "parsed_datetime      datetime64[ns]\n",
      "shift_cum_entries    float64\n",
      "shift_cum_exits      float64\n",
      "shift_datetime       datetime64[ns]\n",
      "entries              float64\n",
      "exits                float64\n",
      "parsed_date          object\n",
      "dtypes: datetime64[ns](2), float64(4), int64(2), object(10)\n",
      "memory usage: 1.4+ GB\n"
     ]
    }
   ],
   "source": [
    "df.info()"
   ]
  },
  {
   "cell_type": "code",
   "execution_count": 25,
   "metadata": {},
   "outputs": [
    {
     "data": {
      "text/html": [
       "<div>\n",
       "<style>\n",
       "    .dataframe thead tr:only-child th {\n",
       "        text-align: right;\n",
       "    }\n",
       "\n",
       "    .dataframe thead th {\n",
       "        text-align: left;\n",
       "    }\n",
       "\n",
       "    .dataframe tbody tr th {\n",
       "        vertical-align: top;\n",
       "    }\n",
       "</style>\n",
       "<table border=\"1\" class=\"dataframe\">\n",
       "  <thead>\n",
       "    <tr style=\"text-align: right;\">\n",
       "      <th></th>\n",
       "      <th>cum_entries</th>\n",
       "      <th>cum_exits</th>\n",
       "      <th>shift_cum_entries</th>\n",
       "      <th>shift_cum_exits</th>\n",
       "      <th>entries</th>\n",
       "      <th>exits</th>\n",
       "    </tr>\n",
       "  </thead>\n",
       "  <tbody>\n",
       "    <tr>\n",
       "      <th>count</th>\n",
       "      <td>10,269,875.00</td>\n",
       "      <td>10,269,875.00</td>\n",
       "      <td>10,265,074.00</td>\n",
       "      <td>10,265,074.00</td>\n",
       "      <td>10,188,320.00</td>\n",
       "      <td>10,202,885.00</td>\n",
       "    </tr>\n",
       "    <tr>\n",
       "      <th>mean</th>\n",
       "      <td>36,486,262.85</td>\n",
       "      <td>29,139,137.62</td>\n",
       "      <td>36,485,342.67</td>\n",
       "      <td>29,138,523.68</td>\n",
       "      <td>180.73</td>\n",
       "      <td>137.62</td>\n",
       "    </tr>\n",
       "    <tr>\n",
       "      <th>std</th>\n",
       "      <td>198,383,992.07</td>\n",
       "      <td>178,412,178.19</td>\n",
       "      <td>198,380,403.78</td>\n",
       "      <td>178,409,702.43</td>\n",
       "      <td>262.63</td>\n",
       "      <td>232.93</td>\n",
       "    </tr>\n",
       "    <tr>\n",
       "      <th>min</th>\n",
       "      <td>0.00</td>\n",
       "      <td>0.00</td>\n",
       "      <td>0.00</td>\n",
       "      <td>0.00</td>\n",
       "      <td>0.00</td>\n",
       "      <td>0.00</td>\n",
       "    </tr>\n",
       "    <tr>\n",
       "      <th>25%</th>\n",
       "      <td>542,339.00</td>\n",
       "      <td>270,255.00</td>\n",
       "      <td>542,371.25</td>\n",
       "      <td>270,277.00</td>\n",
       "      <td>11.00</td>\n",
       "      <td>9.00</td>\n",
       "    </tr>\n",
       "    <tr>\n",
       "      <th>50%</th>\n",
       "      <td>2,646,117.00</td>\n",
       "      <td>1,517,381.00</td>\n",
       "      <td>2,646,139.50</td>\n",
       "      <td>1,517,416.50</td>\n",
       "      <td>78.00</td>\n",
       "      <td>53.00</td>\n",
       "    </tr>\n",
       "    <tr>\n",
       "      <th>75%</th>\n",
       "      <td>6,682,800.00</td>\n",
       "      <td>4,728,312.50</td>\n",
       "      <td>6,682,787.75</td>\n",
       "      <td>4,728,330.00</td>\n",
       "      <td>247.00</td>\n",
       "      <td>166.00</td>\n",
       "    </tr>\n",
       "    <tr>\n",
       "      <th>max</th>\n",
       "      <td>2,147,479,647.00</td>\n",
       "      <td>2,087,386,948.00</td>\n",
       "      <td>2,147,479,647.00</td>\n",
       "      <td>2,087,386,948.00</td>\n",
       "      <td>7,975.00</td>\n",
       "      <td>7,972.00</td>\n",
       "    </tr>\n",
       "  </tbody>\n",
       "</table>\n",
       "</div>"
      ],
      "text/plain": [
       "           cum_entries        cum_exits  shift_cum_entries  shift_cum_exits  \\\n",
       "count    10,269,875.00    10,269,875.00      10,265,074.00    10,265,074.00   \n",
       "mean     36,486,262.85    29,139,137.62      36,485,342.67    29,138,523.68   \n",
       "std     198,383,992.07   178,412,178.19     198,380,403.78   178,409,702.43   \n",
       "min               0.00             0.00               0.00             0.00   \n",
       "25%         542,339.00       270,255.00         542,371.25       270,277.00   \n",
       "50%       2,646,117.00     1,517,381.00       2,646,139.50     1,517,416.50   \n",
       "75%       6,682,800.00     4,728,312.50       6,682,787.75     4,728,330.00   \n",
       "max   2,147,479,647.00 2,087,386,948.00   2,147,479,647.00 2,087,386,948.00   \n",
       "\n",
       "            entries         exits  \n",
       "count 10,188,320.00 10,202,885.00  \n",
       "mean         180.73        137.62  \n",
       "std          262.63        232.93  \n",
       "min            0.00          0.00  \n",
       "25%           11.00          9.00  \n",
       "50%           78.00         53.00  \n",
       "75%          247.00        166.00  \n",
       "max        7,975.00      7,972.00  "
      ]
     },
     "execution_count": 25,
     "metadata": {},
     "output_type": "execute_result"
    }
   ],
   "source": [
    "df.describe()"
   ]
  },
  {
   "cell_type": "code",
   "execution_count": 26,
   "metadata": {},
   "outputs": [
    {
     "data": {
      "text/html": [
       "<div>\n",
       "<style>\n",
       "    .dataframe thead tr:only-child th {\n",
       "        text-align: right;\n",
       "    }\n",
       "\n",
       "    .dataframe thead th {\n",
       "        text-align: left;\n",
       "    }\n",
       "\n",
       "    .dataframe tbody tr th {\n",
       "        vertical-align: top;\n",
       "    }\n",
       "</style>\n",
       "<table border=\"1\" class=\"dataframe\">\n",
       "  <thead>\n",
       "    <tr style=\"text-align: right;\">\n",
       "      <th></th>\n",
       "      <th>control_area</th>\n",
       "      <th>unit</th>\n",
       "      <th>scp</th>\n",
       "      <th>station</th>\n",
       "      <th>linename</th>\n",
       "      <th>division</th>\n",
       "      <th>date</th>\n",
       "      <th>time</th>\n",
       "      <th>desc</th>\n",
       "      <th>cum_entries</th>\n",
       "      <th>cum_exits</th>\n",
       "      <th>parsed_datetime</th>\n",
       "      <th>shift_cum_entries</th>\n",
       "      <th>shift_cum_exits</th>\n",
       "      <th>shift_datetime</th>\n",
       "      <th>entries</th>\n",
       "      <th>exits</th>\n",
       "      <th>parsed_date</th>\n",
       "    </tr>\n",
       "  </thead>\n",
       "  <tbody>\n",
       "    <tr>\n",
       "      <th>0</th>\n",
       "      <td>A002</td>\n",
       "      <td>R051</td>\n",
       "      <td>02-00-00</td>\n",
       "      <td>59 ST</td>\n",
       "      <td>NQR456</td>\n",
       "      <td>BMT</td>\n",
       "      <td>06/18/2016</td>\n",
       "      <td>00:00:00</td>\n",
       "      <td>REGULAR</td>\n",
       "      <td>5704958</td>\n",
       "      <td>1934814</td>\n",
       "      <td>2016-06-18 00:00:00</td>\n",
       "      <td>nan</td>\n",
       "      <td>nan</td>\n",
       "      <td>NaT</td>\n",
       "      <td>nan</td>\n",
       "      <td>nan</td>\n",
       "      <td>2016-06-18</td>\n",
       "    </tr>\n",
       "    <tr>\n",
       "      <th>1</th>\n",
       "      <td>A002</td>\n",
       "      <td>R051</td>\n",
       "      <td>02-00-00</td>\n",
       "      <td>59 ST</td>\n",
       "      <td>NQR456</td>\n",
       "      <td>BMT</td>\n",
       "      <td>06/18/2016</td>\n",
       "      <td>04:00:00</td>\n",
       "      <td>REGULAR</td>\n",
       "      <td>5704958</td>\n",
       "      <td>1934829</td>\n",
       "      <td>2016-06-18 04:00:00</td>\n",
       "      <td>5,704,958.00</td>\n",
       "      <td>1,934,814.00</td>\n",
       "      <td>2016-06-18 00:00:00</td>\n",
       "      <td>0.00</td>\n",
       "      <td>15.00</td>\n",
       "      <td>2016-06-18</td>\n",
       "    </tr>\n",
       "    <tr>\n",
       "      <th>2</th>\n",
       "      <td>A002</td>\n",
       "      <td>R051</td>\n",
       "      <td>02-00-00</td>\n",
       "      <td>59 ST</td>\n",
       "      <td>NQR456</td>\n",
       "      <td>BMT</td>\n",
       "      <td>06/18/2016</td>\n",
       "      <td>08:00:00</td>\n",
       "      <td>REGULAR</td>\n",
       "      <td>5704958</td>\n",
       "      <td>1934886</td>\n",
       "      <td>2016-06-18 08:00:00</td>\n",
       "      <td>5,704,958.00</td>\n",
       "      <td>1,934,829.00</td>\n",
       "      <td>2016-06-18 04:00:00</td>\n",
       "      <td>0.00</td>\n",
       "      <td>57.00</td>\n",
       "      <td>2016-06-18</td>\n",
       "    </tr>\n",
       "    <tr>\n",
       "      <th>3</th>\n",
       "      <td>A002</td>\n",
       "      <td>R051</td>\n",
       "      <td>02-00-00</td>\n",
       "      <td>59 ST</td>\n",
       "      <td>NQR456</td>\n",
       "      <td>BMT</td>\n",
       "      <td>06/18/2016</td>\n",
       "      <td>12:00:00</td>\n",
       "      <td>REGULAR</td>\n",
       "      <td>5704958</td>\n",
       "      <td>1934993</td>\n",
       "      <td>2016-06-18 12:00:00</td>\n",
       "      <td>5,704,958.00</td>\n",
       "      <td>1,934,886.00</td>\n",
       "      <td>2016-06-18 08:00:00</td>\n",
       "      <td>0.00</td>\n",
       "      <td>107.00</td>\n",
       "      <td>2016-06-18</td>\n",
       "    </tr>\n",
       "    <tr>\n",
       "      <th>4</th>\n",
       "      <td>A002</td>\n",
       "      <td>R051</td>\n",
       "      <td>02-00-00</td>\n",
       "      <td>59 ST</td>\n",
       "      <td>NQR456</td>\n",
       "      <td>BMT</td>\n",
       "      <td>06/18/2016</td>\n",
       "      <td>16:00:00</td>\n",
       "      <td>REGULAR</td>\n",
       "      <td>5704958</td>\n",
       "      <td>1935069</td>\n",
       "      <td>2016-06-18 16:00:00</td>\n",
       "      <td>5,704,958.00</td>\n",
       "      <td>1,934,993.00</td>\n",
       "      <td>2016-06-18 12:00:00</td>\n",
       "      <td>0.00</td>\n",
       "      <td>76.00</td>\n",
       "      <td>2016-06-18</td>\n",
       "    </tr>\n",
       "  </tbody>\n",
       "</table>\n",
       "</div>"
      ],
      "text/plain": [
       "  control_area  unit       scp station linename division        date  \\\n",
       "0         A002  R051  02-00-00   59 ST   NQR456      BMT  06/18/2016   \n",
       "1         A002  R051  02-00-00   59 ST   NQR456      BMT  06/18/2016   \n",
       "2         A002  R051  02-00-00   59 ST   NQR456      BMT  06/18/2016   \n",
       "3         A002  R051  02-00-00   59 ST   NQR456      BMT  06/18/2016   \n",
       "4         A002  R051  02-00-00   59 ST   NQR456      BMT  06/18/2016   \n",
       "\n",
       "       time     desc  cum_entries  cum_exits     parsed_datetime  \\\n",
       "0  00:00:00  REGULAR      5704958    1934814 2016-06-18 00:00:00   \n",
       "1  04:00:00  REGULAR      5704958    1934829 2016-06-18 04:00:00   \n",
       "2  08:00:00  REGULAR      5704958    1934886 2016-06-18 08:00:00   \n",
       "3  12:00:00  REGULAR      5704958    1934993 2016-06-18 12:00:00   \n",
       "4  16:00:00  REGULAR      5704958    1935069 2016-06-18 16:00:00   \n",
       "\n",
       "   shift_cum_entries  shift_cum_exits      shift_datetime  entries  exits  \\\n",
       "0                nan              nan                 NaT      nan    nan   \n",
       "1       5,704,958.00     1,934,814.00 2016-06-18 00:00:00     0.00  15.00   \n",
       "2       5,704,958.00     1,934,829.00 2016-06-18 04:00:00     0.00  57.00   \n",
       "3       5,704,958.00     1,934,886.00 2016-06-18 08:00:00     0.00 107.00   \n",
       "4       5,704,958.00     1,934,993.00 2016-06-18 12:00:00     0.00  76.00   \n",
       "\n",
       "  parsed_date  \n",
       "0  2016-06-18  \n",
       "1  2016-06-18  \n",
       "2  2016-06-18  \n",
       "3  2016-06-18  \n",
       "4  2016-06-18  "
      ]
     },
     "execution_count": 26,
     "metadata": {},
     "output_type": "execute_result"
    }
   ],
   "source": [
    "df.head()"
   ]
  },
  {
   "cell_type": "code",
   "execution_count": 27,
   "metadata": {
    "collapsed": true
   },
   "outputs": [],
   "source": [
    "df.to_csv('clean_data.csv')"
   ]
  },
  {
   "cell_type": "code",
   "execution_count": 30,
   "metadata": {},
   "outputs": [
    {
     "name": "stderr",
     "output_type": "stream",
     "text": [
      "/anaconda/envs/py35/lib/python3.5/site-packages/IPython/core/interactiveshell.py:2802: DtypeWarning: Columns (5) have mixed types. Specify dtype option on import or set low_memory=False.\n",
      "  if self.run_code(code, result):\n",
      "/anaconda/envs/py35/lib/python3.5/site-packages/numpy/lib/arraysetops.py:395: FutureWarning: elementwise comparison failed; returning scalar instead, but in the future will perform elementwise comparison\n",
      "  mask |= (ar1 == a)\n"
     ]
    }
   ],
   "source": [
    "#df_new = pd.DataFrame.from_csv('clean_data.csv', parse_dates=['parsed_datetime','parsed_date']) "
   ]
  },
  {
   "cell_type": "code",
   "execution_count": 29,
   "metadata": {},
   "outputs": [
    {
     "name": "stdout",
     "output_type": "stream",
     "text": [
      "<class 'pandas.core.frame.DataFrame'>\n",
      "Int64Index: 10269875 entries, 0 to 10269874\n",
      "Data columns (total 18 columns):\n",
      "control_area         object\n",
      "unit                 object\n",
      "scp                  object\n",
      "station              object\n",
      "linename             object\n",
      "division             object\n",
      "date                 object\n",
      "time                 object\n",
      "desc                 object\n",
      "cum_entries          int64\n",
      "cum_exits            int64\n",
      "parsed_datetime      datetime64[ns]\n",
      "shift_cum_entries    float64\n",
      "shift_cum_exits      float64\n",
      "shift_datetime       object\n",
      "entries              float64\n",
      "exits                float64\n",
      "parsed_date          datetime64[ns]\n",
      "dtypes: datetime64[ns](2), float64(4), int64(2), object(10)\n",
      "memory usage: 1.5+ GB\n"
     ]
    }
   ],
   "source": [
    "#df_new.info()"
   ]
  },
  {
   "cell_type": "code",
   "execution_count": null,
   "metadata": {
    "collapsed": true
   },
   "outputs": [],
   "source": []
  }
 ],
 "metadata": {
  "kernelspec": {
   "display_name": "py35",
   "language": "python",
   "name": "py35"
  },
  "language_info": {
   "codemirror_mode": {
    "name": "ipython",
    "version": 3
   },
   "file_extension": ".py",
   "mimetype": "text/x-python",
   "name": "python",
   "nbconvert_exporter": "python",
   "pygments_lexer": "ipython3",
   "version": "3.5.3"
  }
 },
 "nbformat": 4,
 "nbformat_minor": 2
}
